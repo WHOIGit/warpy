{
 "cells": [
  {
   "cell_type": "markdown",
   "metadata": {},
   "source": [
    "# Warping tutorial\n",
    "## D_playing_with_time_origin\n",
    "\n",
    "##### May 2020\n",
    "###### Eva Chamorro - Daniel Zitterbart - Julien Bonnel"
   ]
  },
  {
   "cell_type": "markdown",
   "metadata": {},
   "source": [
    "## 1. Import packages"
   ]
  },
  {
   "cell_type": "code",
   "execution_count": 1,
   "metadata": {},
   "outputs": [],
   "source": [
    "import os\n",
    "import matplotlib\n",
    "import numpy as np\n",
    "import matplotlib.pyplot as plt\n",
    "import scipy.io as sio\n",
    "%matplotlib widget\n",
    "from matplotlib import interactive\n",
    "from matplotlib.path import Path\n",
    "from warping_functions import *\n",
    "from time_frequency_analysis_functions import *\n",
    "from bbox_select import *\n",
    "from scipy.signal import hilbert\n",
    "from ipywidgets import interact, interact_manual\n",
    "from pts_select import *\n",
    "import warnings\n",
    "warnings.filterwarnings('ignore')"
   ]
  },
  {
   "cell_type": "markdown",
   "metadata": {},
   "source": [
    "## 2. Load simulated signal"
   ]
  },
  {
   "cell_type": "code",
   "execution_count": 2,
   "metadata": {},
   "outputs": [],
   "source": [
    "data = sio.loadmat(os.getcwd()+ '/sig_pek_for_warp.mat')\n",
    "\n",
    "\n",
    "'''\n",
    "    s_t: propagated modes in a Pekeris waveguide with parameters\n",
    "    c1, c2, rho1, rho2: sound speed / density\n",
    "        D: depth\n",
    "        r: range\n",
    "        zs, zr: source/receiver depth\n",
    "    s_t_dec: same than s_t, except that time origin has been set for warping\n",
    "    fs: sampling frequency\n",
    "    \n",
    "   \n",
    "     NB: one can run optional_create_simulated_signal.m to generate another\n",
    "     simulated signal\n",
    "'''\n",
    "\n",
    "# Select variables \n",
    "s_t=data['s_t']\n",
    "fs=data['fs']\n",
    "s_t_dec=data['s_t_dec']\n",
    "r=data['r']\n",
    "c1=data['c1']\n",
    "\n",
    "### IF YOU CHANGE RANGE, you must change the following variable which\n",
    "### defines the bounds on the x-axis for all the plots\n",
    "\n",
    "xlim_plots=[6.5,7.5]"
   ]
  },
  {
   "cell_type": "markdown",
   "metadata": {},
   "source": [
    "## 3. Plot spectrogram and time origin selection"
   ]
  },
  {
   "cell_type": "code",
   "execution_count": 4,
   "metadata": {},
   "outputs": [
    {
     "name": "stdout",
     "output_type": "stream",
     "text": [
      "This is the spectrogram of a signal propagated in a Pekeris waveguide\n",
      "In this code, you will choose the time origin for warping\n",
      "Click once on the spectrogram at the position where you want to define the time origin\n",
      "\n"
     ]
    },
    {
     "data": {
      "application/vnd.jupyter.widget-view+json": {
       "model_id": "1bda79d70b3f4a69ba8146883d2c7a13",
       "version_major": 2,
       "version_minor": 0
      },
      "text/plain": [
       "Canvas(toolbar=Toolbar(toolitems=[('Home', 'Reset original view', 'home', 'home'), ('Back', 'Back to previous …"
      ]
     },
     "metadata": {},
     "output_type": "display_data"
    },
    {
     "data": {
      "application/vnd.jupyter.widget-view+json": {
       "model_id": "24b0262425454807925e5ccef2bad779",
       "version_major": 2,
       "version_minor": 0
      },
      "text/plain": [
       "Button(description='Disconnect mpl', style=ButtonStyle())"
      ]
     },
     "metadata": {},
     "output_type": "display_data"
    },
    {
     "name": "stdout",
     "output_type": "stream",
     "text": [
      "When you have click to define the time origin, click \"disconnect mpl\" \n"
     ]
    }
   ],
   "source": [
    "N=len(s_t[0,:])\n",
    "NFFT=2048 # FFT size\n",
    "N_window=31 # sliding window size (need an odd number)\n",
    "\n",
    "a=np.arange(1,N+1)\n",
    "a=a[np.newaxis,:]\n",
    "d=np.hamming(N_window)\n",
    "d=d[:,np.newaxis]\n",
    "tfr=tfrstft(s_t,a,NFFT,d)\n",
    "spectro=abs(tfr)**2\n",
    "    \n",
    "time=np.arange(0,N)/fs\n",
    "freq=np.arange(0,NFFT)*fs/NFFT\n",
    "    \n",
    "print('This is the spectrogram of a signal propagated in a Pekeris waveguide')\n",
    "print('In this code, you will choose the time origin for warping')\n",
    "print('Click once on the spectrogram at the position where you want to define the time origin')\n",
    "print('')    \n",
    "    \n",
    "\n",
    "\n",
    "spectro_1=spectro[:1025,1300:1501]\n",
    "time_s=time[0,1300:1501]\n",
    "freq_s=freq[0,0:1025]\n",
    "\n",
    "interactive(True)\n",
    "point= pts_select(spectro_1,time_s,freq_s)\n",
    "#point= pts_select(spectro)\n",
    "print('When you have click to define the time origin, click \"disconnect mpl\" ') "
   ]
  },
  {
   "cell_type": "markdown",
   "metadata": {},
   "source": [
    "## 4. Shorten the signal, make it start at the chosen time origin, and warp it"
   ]
  },
  {
   "cell_type": "code",
   "execution_count": 5,
   "metadata": {},
   "outputs": [
    {
     "name": "stdout",
     "output_type": "stream",
     "text": [
      "Continue\n"
     ]
    }
   ],
   "source": [
    "# we extract the selected time origin \n",
    "pts=point.selected_points\n",
    "pts_a=np.array(pts)\n",
    "time_origin=pts_a[0,0]\n",
    "time_t_dec=np.abs(time-time_origin)\n",
    "\n",
    "ind0=np.where(time_t_dec==np.min(time_t_dec))\n",
    "ind0=ind0[1]\n",
    "ind0=ind0[0]\n",
    "    \n",
    "    \n",
    "N_ok=150\n",
    "s_ok=s_t[:,ind0:ind0+N_ok]\n",
    "    \n",
    "# Corresponding time and frequency axis\n",
    "time_ok=np.arange(0,N_ok)/fs\n",
    "\n",
    "#The warped signal will be s_w\n",
    "[s_w, fs_w]=warp_temp_exa(s_ok,fs,r,c1)\n",
    "M=len(s_w)\n",
    "\n",
    "print('Continue')"
   ]
  },
  {
   "cell_type": "markdown",
   "metadata": {},
   "source": [
    "## 5. Plot spectrograms"
   ]
  },
  {
   "cell_type": "code",
   "execution_count": 7,
   "metadata": {},
   "outputs": [
    {
     "name": "stdout",
     "output_type": "stream",
     "text": [
      "The left panel shows the spectrogram of the original signal with the chosen time origin\n",
      "The right panel shows the corresponding warped signal\n",
      "\n"
     ]
    },
    {
     "data": {
      "application/vnd.jupyter.widget-view+json": {
       "model_id": "36bb9a709be44575a9dbb8bbd7bb5a35",
       "version_major": 2,
       "version_minor": 0
      },
      "text/plain": [
       "Canvas(toolbar=Toolbar(toolitems=[('Home', 'Reset original view', 'home', 'home'), ('Back', 'Back to previous …"
      ]
     },
     "metadata": {},
     "output_type": "display_data"
    },
    {
     "name": "stdout",
     "output_type": "stream",
     "text": [
      "Run the previous cells from the point \"3. Plot spectrogram and time origin selection\" if you want to redo the time origin selection\n",
      "Continue if you want to proceed with modal filtering\n"
     ]
    }
   ],
   "source": [
    "### Original signal\n",
    "N_window=31  # you need a short window to see the modes\n",
    "\n",
    "a=np.arange(1,N_ok+1)\n",
    "a=a[np.newaxis,:]\n",
    "d=np.hamming(N_window)\n",
    "d=d[:,np.newaxis]\n",
    "tfr=tfrstft(s_ok,a,NFFT,d)\n",
    "spectro=abs(tfr)**2\n",
    "        \n",
    "           \n",
    "### Warped signal\n",
    "N_window_w=301  # You need a long window to see the warped modes\n",
    "wind=np.hamming(N_window_w)\n",
    "wind=wind/np.linalg.norm(wind)\n",
    "wind=wind[:,np.newaxis]\n",
    "b=np.arange(1,M+1)\n",
    "b=b[np.newaxis,:]\n",
    "tfr_w=tfrstft(s_w,b,NFFT,wind)\n",
    "spectro_w=abs(tfr_w)**2\n",
    "\n",
    "# Time and frequency axis of the warped signal\n",
    "time_w=np.arange(0,(M)/fs_w, 1/fs_w)\n",
    "freq_w=np.arange(0,fs_w-fs_w/NFFT+fs_w/NFFT,fs_w/NFFT)\n",
    "\n",
    "\n",
    "# Figure\n",
    "\n",
    "print('The left panel shows the spectrogram of the original signal with the chosen time origin')\n",
    "print('The right panel shows the corresponding warped signal')\n",
    "print('')\n",
    "\n",
    "plt.figure(figsize=[8,6])\n",
    "plt.subplot(121)\n",
    "plt.imshow(spectro, extent=[time_ok[0,0], time_ok[0,-1], freq[0,0], freq[0,-1]],aspect='auto',origin='low')\n",
    "plt.ylim([0, fs/2])\n",
    "#plt.xlim([0, 0.5])  ### Adjust this to see better\n",
    "plt.xlabel('Time (sec)')\n",
    "plt.ylabel('Frequency (Hz)')\n",
    "plt.title('Original signal with chosen time origin')\n",
    "\n",
    "\n",
    "plt.subplot(122)\n",
    "plt.imshow(spectro_w, extent=[time_w[0], time_w[-1], freq_w[0], freq_w[-1]],aspect='auto',origin='low')\n",
    "plt.ylim([0,40]) ### Adjust this to see better\n",
    "plt.xlabel('Warped time (sec)')\n",
    "plt.ylabel('Corresponding warped frequency (Hz)')\n",
    "plt.title('Corresponding warped signal')\n",
    "plt.show()\n",
    "\n",
    "print('Run the previous cells from the point \"3. Plot spectrogram and time origin selection\" if you want to redo the time origin selection')\n",
    "print('Continue if you want to proceed with modal filtering')"
   ]
  },
  {
   "cell_type": "markdown",
   "metadata": {},
   "source": [
    "## 6. Filtering"
   ]
  },
  {
   "cell_type": "markdown",
   "metadata": {},
   "source": [
    "#### Filter mode 1"
   ]
  },
  {
   "cell_type": "code",
   "execution_count": 8,
   "metadata": {},
   "outputs": [
    {
     "name": "stdout",
     "output_type": "stream",
     "text": [
      "Now try to filter the 4 modes\n",
      "Create the four masks sequentially, starting with mode 1, then 2, etc.\n",
      "To do so, click twice n the spectrogram to create a line and continue to define the region you want to filter \n",
      "(if needed, go back to c_warping_and_filtering.m for mask creation)\n",
      "Look at Fig. 11 in the paper for a mask shape suggestion\n",
      "(you can enlarge the figure or make it full screen before creating the mask)\n",
      "\n",
      "Filtering mode 1\n"
     ]
    },
    {
     "data": {
      "application/vnd.jupyter.widget-view+json": {
       "model_id": "432ef458122e47ef946957b4043837f9",
       "version_major": 2,
       "version_minor": 0
      },
      "text/plain": [
       "Canvas(toolbar=Toolbar(toolitems=[('Home', 'Reset original view', 'home', 'home'), ('Back', 'Back to previous …"
      ]
     },
     "metadata": {},
     "output_type": "display_data"
    },
    {
     "data": {
      "application/vnd.jupyter.widget-view+json": {
       "model_id": "85800eafb7df4566b5323e0c0674ff84",
       "version_major": 2,
       "version_minor": 0
      },
      "text/plain": [
       "Button(description='Disconnect mpl', style=ButtonStyle())"
      ]
     },
     "metadata": {},
     "output_type": "display_data"
    },
    {
     "name": "stdout",
     "output_type": "stream",
     "text": [
      "When you have finish,click \"disconnect mpl\" and continue to filter mode 2\n"
     ]
    }
   ],
   "source": [
    "## selection the spectro_w part to mask \n",
    "spectro_w_1=spectro_w[0:400,:]\n",
    "time_w_1=time_w\n",
    "freq_w_1=freq_w[:400]\n",
    "Nmode=4\n",
    "modes=np.zeros((N_ok,Nmode))\n",
    "tm=np.zeros((NFFT,Nmode))\n",
    "\n",
    "# To make it easier, filtering will be done by hand using the roipoly tool.\n",
    "# See python help for more information\n",
    "\n",
    "print('Now try to filter the 4 modes');\n",
    "print('Create the four masks sequentially, starting with mode 1, then 2, etc.')\n",
    "print('To do so, click twice n the spectrogram to create a line and continue to define the region you want to filter ')\n",
    "print('(if needed, go back to c_warping_and_filtering.m for mask creation)')\n",
    "print('Look at Fig. 11 in the paper for a mask shape suggestion')\n",
    "print('(you can enlarge the figure or make it full screen before creating the mask)')\n",
    "\n",
    "# Let filter a mode 1\n",
    "print('')\n",
    "print('Filtering mode 1')\n",
    "interactive(True)\n",
    "section=bbox_select(spectro_w_1)\n",
    "#section=bbox_select(spectro_w_1,time_w_1,freq_w_1)\n",
    "print('When you have finish,click \"disconnect mpl\" and continue to filter mode 2') "
   ]
  },
  {
   "cell_type": "markdown",
   "metadata": {},
   "source": [
    "#### Filter mode 2"
   ]
  },
  {
   "cell_type": "code",
   "execution_count": 9,
   "metadata": {},
   "outputs": [
    {
     "name": "stdout",
     "output_type": "stream",
     "text": [
      "\n",
      "Filtering mode 2\n"
     ]
    },
    {
     "data": {
      "application/vnd.jupyter.widget-view+json": {
       "model_id": "3b825ed3b3d74539ae37a786b628dd06",
       "version_major": 2,
       "version_minor": 0
      },
      "text/plain": [
       "Canvas(toolbar=Toolbar(toolitems=[('Home', 'Reset original view', 'home', 'home'), ('Back', 'Back to previous …"
      ]
     },
     "metadata": {},
     "output_type": "display_data"
    },
    {
     "data": {
      "application/vnd.jupyter.widget-view+json": {
       "model_id": "20c0e84166cb4f01a84132017f853b63",
       "version_major": 2,
       "version_minor": 0
      },
      "text/plain": [
       "Button(description='Disconnect mpl', style=ButtonStyle())"
      ]
     },
     "metadata": {},
     "output_type": "display_data"
    },
    {
     "name": "stdout",
     "output_type": "stream",
     "text": [
      "When you have finish,click \"disconnect mpl\" and continue to filter mode 3\n"
     ]
    }
   ],
   "source": [
    "# create the mask of the section\n",
    "pts=section.selected_points\n",
    "nx, ny = np.shape(spectro_w_1)\n",
    "x, y = np.meshgrid(np.arange(ny), np.arange(nx))\n",
    "x, y = x.flatten(), y.flatten()\n",
    "points = np.vstack((x,y)).T\n",
    "path = Path(pts)\n",
    "grid = path.contains_points(points)\n",
    "mask = grid.reshape((nx,ny))\n",
    "\n",
    "masque_1=np.double(mask)\n",
    "\n",
    "# add the part masked to the total sprectogram array\n",
    "masque_9=np.zeros_like(spectro_w[400:,:])\n",
    "masque=np.concatenate((masque_1,masque_9),axis=0)\n",
    "\n",
    "\n",
    "mode_rtf_warp=masque*tfr_w\n",
    "norm=1/NFFT/np.max(wind)\n",
    "mode_temp_warp=np.real(np.sum(mode_rtf_warp,axis=0))*norm*2\n",
    "mode=iwarp_temp_exa(mode_temp_warp,fs_w,r,c1,fs,N_ok)\n",
    "modes[:,0]=mode[:,0]\n",
    "\n",
    "## Verification\n",
    "\n",
    "a=hilbert(mode)\n",
    "b=np.arange(1,N_ok+1)\n",
    "b=b[np.newaxis,:]\n",
    "h=np.hamming(N_window)\n",
    "h=h[:,np.newaxis]\n",
    "mode_stft=tfrstft(a,b,NFFT,h)\n",
    "mode_spectro=abs(mode_stft)**2\n",
    "tm_1,D2=momftfr(mode_spectro,0,N_ok,time_ok)\n",
    "tm[:,0]=tm_1[:,0]\n",
    "\n",
    "## Mode 2\n",
    "print('')\n",
    "print('Filtering mode 2')\n",
    "interactive(True)\n",
    "section_2=bbox_select(spectro_w_1)\n",
    "print('When you have finish,click \"disconnect mpl\" and continue to filter mode 3') "
   ]
  },
  {
   "cell_type": "markdown",
   "metadata": {},
   "source": [
    "#### Filter mode 3"
   ]
  },
  {
   "cell_type": "code",
   "execution_count": 10,
   "metadata": {},
   "outputs": [
    {
     "name": "stdout",
     "output_type": "stream",
     "text": [
      "\n",
      "Filtering mode 3\n"
     ]
    },
    {
     "data": {
      "application/vnd.jupyter.widget-view+json": {
       "model_id": "a53bfb5ec48f4c85b9bf6a122e59c008",
       "version_major": 2,
       "version_minor": 0
      },
      "text/plain": [
       "Canvas(toolbar=Toolbar(toolitems=[('Home', 'Reset original view', 'home', 'home'), ('Back', 'Back to previous …"
      ]
     },
     "metadata": {},
     "output_type": "display_data"
    },
    {
     "data": {
      "application/vnd.jupyter.widget-view+json": {
       "model_id": "97ca89e53bf747699c6b0a8bb0c4fd9a",
       "version_major": 2,
       "version_minor": 0
      },
      "text/plain": [
       "Button(description='Disconnect mpl', style=ButtonStyle())"
      ]
     },
     "metadata": {},
     "output_type": "display_data"
    },
    {
     "name": "stdout",
     "output_type": "stream",
     "text": [
      "When you have finish,click \"disconnect mpl\" and continue to filter mode 4\n"
     ]
    }
   ],
   "source": [
    "# create the mask of the section\n",
    "pts=section_2.selected_points\n",
    "nx, ny = np.shape(spectro_w_1)\n",
    "x, y = np.meshgrid(np.arange(ny), np.arange(nx))\n",
    "x, y = x.flatten(), y.flatten()\n",
    "points = np.vstack((x,y)).T\n",
    "path = Path(pts)\n",
    "grid = path.contains_points(points)\n",
    "mask = grid.reshape((nx,ny))\n",
    "\n",
    "masque_2=np.double(mask)\n",
    "\n",
    "# add the part masked to the total sprectogram array\n",
    "masque_2=np.concatenate((masque_2,masque_9),axis=0)\n",
    "\n",
    "\n",
    "mode_rtf_warp_2=masque_2*tfr_w\n",
    "mode_temp_warp_2=np.real(np.sum(mode_rtf_warp_2,axis=0))*norm*2\n",
    "mode_2=iwarp_temp_exa(mode_temp_warp_2,fs_w,r,c1,fs,N_ok)\n",
    "modes[:,1]=mode_2[:,0]\n",
    "\n",
    "## Verification\n",
    "a_2=hilbert(mode_2)\n",
    "mode_stft_2=tfrstft(a_2,b,NFFT,h)\n",
    "mode_spectro_2=abs(mode_stft_2)**2\n",
    "tm_2,D2_2=momftfr(mode_spectro_2,0,N_ok,time_ok)\n",
    "tm[:,1]=tm_2[:,0]\n",
    "## Mode 3\n",
    "print('')\n",
    "print('Filtering mode 3')\n",
    "interactive(True)\n",
    "section_3=bbox_select(spectro_w_1)\n",
    "print('When you have finish,click \"disconnect mpl\" and continue to filter mode 4') "
   ]
  },
  {
   "cell_type": "markdown",
   "metadata": {},
   "source": [
    "#### Filter mode 4"
   ]
  },
  {
   "cell_type": "code",
   "execution_count": 11,
   "metadata": {},
   "outputs": [
    {
     "name": "stdout",
     "output_type": "stream",
     "text": [
      "\n",
      "Filtering mode 4\n"
     ]
    },
    {
     "data": {
      "application/vnd.jupyter.widget-view+json": {
       "model_id": "8de5a4ad513d460f85c830afac2f767c",
       "version_major": 2,
       "version_minor": 0
      },
      "text/plain": [
       "Canvas(toolbar=Toolbar(toolitems=[('Home', 'Reset original view', 'home', 'home'), ('Back', 'Back to previous …"
      ]
     },
     "metadata": {},
     "output_type": "display_data"
    },
    {
     "data": {
      "application/vnd.jupyter.widget-view+json": {
       "model_id": "a2d41c458b0a4546afc72183813366af",
       "version_major": 2,
       "version_minor": 0
      },
      "text/plain": [
       "Button(description='Disconnect mpl', style=ButtonStyle())"
      ]
     },
     "metadata": {},
     "output_type": "display_data"
    },
    {
     "name": "stdout",
     "output_type": "stream",
     "text": [
      "When you have finish,click \"disconnect mpl\" and continue\n"
     ]
    }
   ],
   "source": [
    "# create the mask of the section\n",
    "pts=section_3.selected_points\n",
    "nx, ny = np.shape(spectro_w_1)\n",
    "x, y = np.meshgrid(np.arange(ny), np.arange(nx))\n",
    "x, y = x.flatten(), y.flatten()\n",
    "points = np.vstack((x,y)).T\n",
    "path = Path(pts)\n",
    "grid = path.contains_points(points)\n",
    "mask = grid.reshape((nx,ny))\n",
    "\n",
    "masque_3=np.double(mask)\n",
    "\n",
    "# add the part masked to the total sprectogram array\n",
    "masque_3=np.concatenate((masque_3,masque_9),axis=0)\n",
    "\n",
    "\n",
    "mode_rtf_warp_3=masque_3*tfr_w\n",
    "mode_temp_warp_3=np.real(np.sum(mode_rtf_warp_3,axis=0))*norm*2\n",
    "mode_3=iwarp_temp_exa(mode_temp_warp_3,fs_w,r,c1,fs,N_ok)\n",
    "modes[:,2]=mode_3[:,0]\n",
    "\n",
    "## Verification\n",
    "\n",
    "a_3=hilbert(mode_3)\n",
    "mode_stft_3=tfrstft(a_3,b,NFFT,h)\n",
    "mode_spectro_3=abs(mode_stft_3)**2\n",
    "tm_3,D2_3=momftfr(mode_spectro_3,0,N_ok,time_ok)\n",
    "tm[:,2]=tm_3[:,0]\n",
    "\n",
    "## Mode 4\n",
    "\n",
    "print('')\n",
    "print('Filtering mode 4')\n",
    "interactive(True)\n",
    "section_4=bbox_select(spectro_w_1)\n",
    "print('When you have finish,click \"disconnect mpl\" and continue') "
   ]
  },
  {
   "cell_type": "code",
   "execution_count": 12,
   "metadata": {},
   "outputs": [
    {
     "name": "stdout",
     "output_type": "stream",
     "text": [
      "End of filtering\n",
      "Continue\n"
     ]
    }
   ],
   "source": [
    "# create the mask of the section\n",
    "pts=section_4.selected_points\n",
    "nx, ny = np.shape(spectro_w_1)\n",
    "x, y = np.meshgrid(np.arange(ny), np.arange(nx))\n",
    "x, y = x.flatten(), y.flatten()\n",
    "points = np.vstack((x,y)).T\n",
    "path = Path(pts)\n",
    "grid = path.contains_points(points)\n",
    "mask = grid.reshape((nx,ny))\n",
    "masque_4=np.double(mask)\n",
    "\n",
    "# add the part masked to the total sprectogram array\n",
    "masque_4=np.concatenate((masque_4,masque_9),axis=0)\n",
    "\n",
    "\n",
    "mode_rtf_warp_4=masque_4*tfr_w\n",
    "mode_temp_warp_4=np.real(np.sum(mode_rtf_warp_4,axis=0))*norm*2\n",
    "mode_4=iwarp_temp_exa(mode_temp_warp_4,fs_w,r,c1,fs,N_ok)\n",
    "modes[:,3]=mode_4[:,0]\n",
    "\n",
    "## Verification\n",
    "\n",
    "a_4=hilbert(mode_4)\n",
    "mode_stft_4=tfrstft(a_4,b,NFFT,h)\n",
    "mode_spectro_4=abs(mode_stft_4)**2\n",
    "tm_4,D2=momftfr(mode_spectro_4,0,N_ok,time_ok)\n",
    "tm[:,3]=tm_4[:,0]\n",
    "\n",
    "print('End of filtering')\n",
    "print('Continue')\n"
   ]
  },
  {
   "cell_type": "markdown",
   "metadata": {},
   "source": [
    "## 7. Verification"
   ]
  },
  {
   "cell_type": "code",
   "execution_count": 14,
   "metadata": {},
   "outputs": [
    {
     "name": "stdout",
     "output_type": "stream",
     "text": [
      "The red lines are the estimated dispersion curves.\n",
      " \n"
     ]
    },
    {
     "data": {
      "application/vnd.jupyter.widget-view+json": {
       "model_id": "4c2447dfcef84eecb5b3a619a10d350c",
       "version_major": 2,
       "version_minor": 0
      },
      "text/plain": [
       "Canvas(toolbar=Toolbar(toolitems=[('Home', 'Reset original view', 'home', 'home'), ('Back', 'Back to previous …"
      ]
     },
     "metadata": {},
     "output_type": "display_data"
    },
    {
     "name": "stdout",
     "output_type": "stream",
     "text": [
      "Continue to look at your result vs the true modes\n"
     ]
    }
   ],
   "source": [
    "print('The red lines are the estimated dispersion curves.')\n",
    "print(' ')\n",
    "\n",
    "plt.figure(figsize=[7,5])\n",
    "plt.imshow(spectro, extent=[time_ok[0,0], time_ok[0,-1], freq[0,0], freq[0,-1]],aspect='auto',origin='low')\n",
    "plt.ylim([0,fs/2])\n",
    "plt.xlabel('Time (sec)')\n",
    "plt.ylabel('Frequency (Hz)')\n",
    "plt.title('Spectrogram and estimated dispersion curve')\n",
    "plt.plot(tm[:,0],freq[0, :],'r')\n",
    "plt.plot(tm[:,1],freq[0, :],'r')\n",
    "plt.plot(tm[:,2],freq[0, :],'r')\n",
    "plt.plot(tm[:,3],freq[0, :],'r')\n",
    "plt.show()\n",
    "\n",
    "\n",
    "\n",
    "print('Continue to look at your result vs the true modes')"
   ]
  },
  {
   "cell_type": "markdown",
   "metadata": {},
   "source": [
    "## 8. Last verification"
   ]
  },
  {
   "cell_type": "code",
   "execution_count": 15,
   "metadata": {},
   "outputs": [
    {
     "name": "stdout",
     "output_type": "stream",
     "text": [
      "This is the same figure than before, except that the true dispersion curves are now in black.\n",
      "How well did you do?\n",
      " \n",
      "Recall that you have to restrict interpretation of the dispersion curve (red line)\n",
      "to only the frequency band where it is relevant. The black and red lines will not match\n",
      "entirely for the length of the red line\n",
      " \n",
      "For practical applications, you will need to restrict dispersion curves to a frequency band\n",
      "where they are ok. This will be covered in the script g_filtering_multiple_modes_for_loc.\n",
      " \n",
      "Try to rerun the code and change the time origin to overly late/early value and see what it does.\n",
      " \n"
     ]
    },
    {
     "data": {
      "application/vnd.jupyter.widget-view+json": {
       "model_id": "469e4b6f23b341ec92a0cf1bc727c113",
       "version_major": 2,
       "version_minor": 0
      },
      "text/plain": [
       "Canvas(toolbar=Toolbar(toolitems=[('Home', 'Reset original view', 'home', 'home'), ('Back', 'Back to previous …"
      ]
     },
     "metadata": {},
     "output_type": "display_data"
    },
    {
     "name": "stdout",
     "output_type": "stream",
     "text": [
      " \n",
      "END\n"
     ]
    }
   ],
   "source": [
    "data = sio.loadmat(os.getcwd()+ '/sig_pek_and_modes_for_warp.mat')\n",
    "r=data['r']\n",
    "vg=data['vg']\n",
    "c1=data['c1']\n",
    "f_vg=data['f_vg']\n",
    "\n",
    "\n",
    "### creation of the theoretical dispersion curves\n",
    "tm_theo=r/vg-time_origin ### range over group_speed minus correction for time origin\n",
    "\n",
    "print('This is the same figure than before, except that the true dispersion curves are now in black.')\n",
    "print('How well did you do?')\n",
    "print(' ')\n",
    "print('Recall that you have to restrict interpretation of the dispersion curve (red line)')\n",
    "print('to only the frequency band where it is relevant. The black and red lines will not match')\n",
    "print('entirely for the length of the red line')\n",
    "print(' ')\n",
    "\n",
    "print('For practical applications, you will need to restrict dispersion curves to a frequency band')\n",
    "print('where they are ok. This will be covered in the script g_filtering_multiple_modes_for_loc.')\n",
    "print(' ')\n",
    "print('Try to rerun the code and change the time origin to overly late/early value and see what it does.')\n",
    "print(' ')\n",
    "\n",
    "\n",
    "plt.figure(figsize=[7,5])\n",
    "plt.imshow(spectro, extent=[time_ok[0,0], time_ok[0,-1], freq[0,0], freq[0,-1]],aspect='auto',origin='low')\n",
    "plt.ylim([0,fs/2])\n",
    "plt.xlim([0,0.74])\n",
    "plt.xlabel('Time (sec)')\n",
    "plt.ylabel('Frequency (Hz)')\n",
    "plt.title('Spectrogram and estimated dispersion curve')\n",
    "plt.plot(tm_theo[0,:], f_vg[0,:], 'black')\n",
    "plt.plot(tm_theo[1,:], f_vg[0,:], 'black')\n",
    "plt.plot(tm_theo[2,:], f_vg[0,:], 'black')\n",
    "plt.plot(tm_theo[3,:], f_vg[0,:], 'black')\n",
    "plt.plot(tm[:,0],freq[0, :],'r')\n",
    "plt.plot(tm[:,1],freq[0, :],'r')\n",
    "plt.plot(tm[:,2],freq[0, :],'r')\n",
    "plt.plot(tm[:,3],freq[0, :],'r')\n",
    "plt.show()\n",
    "\n",
    "\n",
    "print(' ')\n",
    "print('END')"
   ]
  }
 ],
 "metadata": {
  "kernelspec": {
   "display_name": "Python 3",
   "language": "python",
   "name": "python3"
  },
  "language_info": {
   "codemirror_mode": {
    "name": "ipython",
    "version": 3
   },
   "file_extension": ".py",
   "mimetype": "text/x-python",
   "name": "python",
   "nbconvert_exporter": "python",
   "pygments_lexer": "ipython3",
   "version": "3.7.2"
  }
 },
 "nbformat": 4,
 "nbformat_minor": 4
}

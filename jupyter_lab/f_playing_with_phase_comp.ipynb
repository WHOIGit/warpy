{
 "cells": [
  {
   "cell_type": "markdown",
   "metadata": {},
   "source": [
    "# Warping tutorial\n",
    "## f_playing_with_phase_comp\n",
    "\n",
    "##### May 2020\n",
    "###### Eva Chamorro - Daniel Zitterbart - Julien Bonnel"
   ]
  },
  {
   "cell_type": "markdown",
   "metadata": {},
   "source": [
    "## 1. Import packages"
   ]
  },
  {
   "cell_type": "code",
   "execution_count": 1,
   "metadata": {},
   "outputs": [],
   "source": [
    "import os\n",
    "import matplotlib\n",
    "import numpy as np\n",
    "import matplotlib.pyplot as plt\n",
    "import scipy.io as sio\n",
    "%matplotlib widget\n",
    "from matplotlib import interactive\n",
    "from matplotlib.path import Path\n",
    "from scipy import interpolate\n",
    "from scipy.fftpack import fft, ifft\n",
    "from scipy.signal import hilbert\n",
    "from ipywidgets import interact, interact_manual\n",
    "from warping_functions import *\n",
    "from time_frequency_analysis_functions import *\n",
    "from bbox_select import *\n",
    "from pts_select import *\n",
    "import warnings\n",
    "warnings.filterwarnings('ignore')"
   ]
  },
  {
   "cell_type": "markdown",
   "metadata": {},
   "source": [
    "## 2. Load simulated signal"
   ]
  },
  {
   "cell_type": "code",
   "execution_count": 2,
   "metadata": {},
   "outputs": [],
   "source": [
    "data = sio.loadmat(os.getcwd()+ '/sig_pek_for_warp.mat')\n",
    "\n",
    "\n",
    "'''\n",
    "    s_t: propagated modes in a Pekeris waveguide with parameters\n",
    "    c1, c2, rho1, rho2: sound speed / density\n",
    "        D: depth\n",
    "        r: range\n",
    "        zs, zr: source/receiver depth\n",
    "    s_t_dec: same than s_t, except that time origin has been set for warping\n",
    "    fs: sampling frequency\n",
    "    \n",
    "   \n",
    "     NB: one can run optional_create_simulated_signal.m to generate another\n",
    "     simulated signal\n",
    "'''\n",
    "\n",
    "# Select variables\n",
    "s_t=data['s_t']\n",
    "fs=data['fs']\n",
    "s_t_dec=data['s_t_dec']\n",
    "r=data['r']\n",
    "c1=data['c1']"
   ]
  },
  {
   "cell_type": "markdown",
   "metadata": {},
   "source": [
    "## 3. Process signal "
   ]
  },
  {
   "cell_type": "code",
   "execution_count": 3,
   "metadata": {},
   "outputs": [
    {
     "name": "stdout",
     "output_type": "stream",
     "text": [
      "Continue\n"
     ]
    }
   ],
   "source": [
    "# The first sample of s_t_dec corresponds to time r/c1\n",
    "# Make the signal shorter, no need to keep samples with zeros\n",
    "N_ok=250\n",
    "ir_ok=s_t_dec[:,0:N_ok] ### this is the impulse response of the waveguide\n",
    "print('Continue')"
   ]
  },
  {
   "cell_type": "markdown",
   "metadata": {},
   "source": [
    "## 4. Source signal creation"
   ]
  },
  {
   "cell_type": "code",
   "execution_count": 4,
   "metadata": {},
   "outputs": [
    {
     "name": "stdout",
     "output_type": "stream",
     "text": [
      "Continue\n"
     ]
    }
   ],
   "source": [
    "## Source signal creation\n",
    "X,IFLAW_source=fmpar(200,np.array([1,0.5]),np.array([100,0.15]),np.array([200,0.01]))\n",
    "\n",
    "\n",
    "# source signal is a parabolic modulated FM signal\n",
    "source=X*(IFLAW_source+1)\n",
    "N_source=len(source)\n",
    "\n",
    "print('Continue')"
   ]
  },
  {
   "cell_type": "markdown",
   "metadata": {},
   "source": [
    "## 5. Propagated signal"
   ]
  },
  {
   "cell_type": "code",
   "execution_count": 5,
   "metadata": {},
   "outputs": [],
   "source": [
    "# Propagated signal = time-convolution between source and impulse response = multiplication in the frequency domain\n",
    "source_f=fft(source, N_ok)\n",
    "source_f=source_f[:,np.newaxis]\n",
    "ir_f=fft(ir_ok,N_ok)\n",
    "s_f=source_f*np.transpose(ir_f)\n",
    "s_ok=ifft(s_f,N_ok, axis=0) #propagated signal\n",
    "\n",
    "# STFT computation\n",
    "NFFT=1024\n",
    "N_window=31 # you need a short window to see the modes\n",
    "b=np.arange(1,N_ok+1)\n",
    "b=b[np.newaxis,:]\n",
    "d=np.hamming(N_window)\n",
    "d=d[:,np.newaxis]\n",
    "tfr=tfrstft(s_ok,b,NFFT,d)\n",
    "source_1=source[:,np.newaxis]\n",
    "tfr_source=tfrstft(source_1,b,NFFT,d)\n",
    "\n",
    "spectro=abs(tfr)**2\n",
    "spectro_source=abs(tfr_source)**2\n",
    "\n",
    "\n",
    "# Time and frequency axis of the original signal\n",
    "time=np.arange(0,N_ok)/fs\n",
    "freq=np.arange(0,NFFT)*fs/NFFT\n",
    "\n",
    "\n",
    "\n",
    "time_init=time\n",
    "freq_init=freq\n",
    "spectro_init=spectro"
   ]
  },
  {
   "cell_type": "markdown",
   "metadata": {},
   "source": [
    "## 6.1 Phase compensation"
   ]
  },
  {
   "cell_type": "code",
   "execution_count": 6,
   "metadata": {},
   "outputs": [
    {
     "name": "stdout",
     "output_type": "stream",
     "text": [
      "This is the same example as has been shown previously (see e_warping_and_filtering_and_phase_comp.m)\n",
      "This time, we will approximate the source TF law with 3 linear pieces.\n",
      "As explained in Sec V C, an easy way to do so is to roughly follow the TF contour of mode 1\n",
      "Let us try\n",
      "\n",
      "\n",
      "Click 4 times on the spectrogram to define your 3 linear pieces\n",
      "In this case, the easiest is probably to start at early-times/high frequencies,\n",
      "and to progress toward increasing times and decreasing frequencies\n",
      "(roughly follow the black line from the previous example)\n"
     ]
    },
    {
     "data": {
      "application/vnd.jupyter.widget-view+json": {
       "model_id": "f89fadfe0255414bb9bf0007ccc79e23",
       "version_major": 2,
       "version_minor": 0
      },
      "text/plain": [
       "Canvas(toolbar=Toolbar(toolitems=[('Home', 'Reset original view', 'home', 'home'), ('Back', 'Back to previous …"
      ]
     },
     "metadata": {},
     "output_type": "display_data"
    },
    {
     "data": {
      "application/vnd.jupyter.widget-view+json": {
       "model_id": "3c604628dcc3403bbefcddd0bb641986",
       "version_major": 2,
       "version_minor": 0
      },
      "text/plain": [
       "Button(description='Disconnect mpl', style=ButtonStyle())"
      ]
     },
     "metadata": {},
     "output_type": "display_data"
    },
    {
     "name": "stdout",
     "output_type": "stream",
     "text": [
      "\n",
      "When you have click 4 times on the spectrogram, click \"disconnect mpl\" and continue\n"
     ]
    }
   ],
   "source": [
    "print('This is the same example as has been shown previously (see e_warping_and_filtering_and_phase_comp.m)')\n",
    "print('This time, we will approximate the source TF law with 3 linear pieces.')\n",
    "print('As explained in Sec V C, an easy way to do so is to roughly follow the TF contour of mode 1')\n",
    "print('Let us try')\n",
    "print('')\n",
    "print('')\n",
    "\n",
    "spectro_s=spectro[:512,:]\n",
    "freq_s=freq[0,:512]\n",
    "time_s=time[0,:]\n",
    "\n",
    "print('Click 4 times on the spectrogram to define your 3 linear pieces')\n",
    "print('In this case, the easiest is probably to start at early-times/high frequencies,')\n",
    "print('and to progress toward increasing times and decreasing frequencies')\n",
    "print('(roughly follow the black line from the previous example)')\n",
    "\n",
    "interactive(True)\n",
    "point= pts_select(spectro_s,time_s,freq_s)\n",
    "\n",
    "print('')\n",
    "print('When you have click 4 times on the spectrogram, click \"disconnect mpl\" and continue') "
   ]
  },
  {
   "cell_type": "code",
   "execution_count": 7,
   "metadata": {},
   "outputs": [
    {
     "name": "stdout",
     "output_type": "stream",
     "text": [
      "The black line is your best guess of the source signal\n",
      "Now, let us do phase compensation to transform our received signal\n",
      "into something that looks like the impulse response of the waveguide\n"
     ]
    },
    {
     "data": {
      "application/vnd.jupyter.widget-view+json": {
       "model_id": "a435ab23cb344d4e85e57450fc9b7c0d",
       "version_major": 2,
       "version_minor": 0
      },
      "text/plain": [
       "Canvas(toolbar=Toolbar(toolitems=[('Home', 'Reset original view', 'home', 'home'), ('Back', 'Back to previous …"
      ]
     },
     "metadata": {},
     "output_type": "display_data"
    },
    {
     "name": "stdout",
     "output_type": "stream",
     "text": [
      "Continue\n"
     ]
    }
   ],
   "source": [
    "# we extract the points selected \n",
    "pts=point.selected_points\n",
    "c=np.array(pts)\n",
    "ttt=c[:,0]\n",
    "fff=c[:,1]\n",
    "\n",
    "print('The black line is your best guess of the source signal')\n",
    "print('Now, let us do phase compensation to transform our received signal')\n",
    "print('into something that looks like the impulse response of the waveguide')\n",
    "\n",
    "### let's plot it on top of the received signal\n",
    "plt.figure(figsize=(7,5))\n",
    "plt.imshow(spectro, extent=[time[0,0], time[0,-1], freq[0,0], freq[0,-1]],aspect='auto', origin='low')\n",
    "plt.ylim([0, fs/2])\n",
    "plt.xlabel('Time (sec)')\n",
    "plt.ylabel('Frequency (Hz)')\n",
    "plt.title('Received signal')\n",
    "plt.plot(ttt,fff,'black', linewidth=3)\n",
    "plt.show()\n",
    "\n",
    "### convert to samples and reduced frequencies\n",
    "ttt_s=np.round(ttt*fs)+1\n",
    "fff_s=fff/fs\n",
    "n_click=4\n",
    "\n",
    "### create the piecewise linear-FM source\n",
    "for ii in range (1,n_click):\n",
    "    ifl=np.linspace(fff_s[0,ii-1],fff_s[0,ii],int(ttt_s[0,ii]-ttt_s[0,ii-1]))\n",
    "    \n",
    "    if ii==1:\n",
    "        iflaw=ifl\n",
    "    else:\n",
    "        iflaw=np.concatenate((iflaw , ifl[1:]))\n",
    "\n",
    "iflaw=iflaw[:, np.newaxis]\n",
    "\n",
    "source_est, IFLAW_est=fmodany(iflaw) \n",
    "source_est=source_est[:,np.newaxis]\n",
    "source_est_f=fft(source_est,N_ok,axis=0) ### estimated source signal in the frequency domain\n",
    "phi=np.angle(source_est_f)   ### phase of the estimated source signal in the frequency domain\n",
    "\n",
    "print('Continue')"
   ]
  },
  {
   "cell_type": "markdown",
   "metadata": {},
   "source": [
    "## 6.2 Phase correction"
   ]
  },
  {
   "cell_type": "code",
   "execution_count": 8,
   "metadata": {},
   "outputs": [
    {
     "name": "stdout",
     "output_type": "stream",
     "text": [
      "Here is the result\n",
      "If you think it looks like an impulse response, continue to the next cell\n",
      "If you want to redo the phase compensation,go back to the cell \"6.1 Phase compensation\" \n",
      "(you will have the opportunity to modify the time origin later \n"
     ]
    },
    {
     "data": {
      "application/vnd.jupyter.widget-view+json": {
       "model_id": "0ddeda7cfcbf4173b071a7a8303ddd3a",
       "version_major": 2,
       "version_minor": 0
      },
      "text/plain": [
       "Canvas(toolbar=Toolbar(toolitems=[('Home', 'Reset original view', 'home', 'home'), ('Back', 'Back to previous …"
      ]
     },
     "metadata": {},
     "output_type": "display_data"
    }
   ],
   "source": [
    "## Phase correction\n",
    "sig_prop_f=fft(s_ok,axis=0)\n",
    "i=complex(0,1)\n",
    "sig_rec_f=sig_prop_f*np.exp(-i*phi)  # note that only source phase is deconvoluted\n",
    "sig_rec_t=ifft(sig_rec_f,axis=0)  #Signal in time domain after source deconvolution\n",
    "\n",
    "\n",
    "# Figure\n",
    "b=np.arange(1,N_ok+1)\n",
    "b=b[np.newaxis,:]\n",
    "d=np.hamming(N_window)\n",
    "d=d[:,np.newaxis]\n",
    "\n",
    "tfr_sig_rec=tfrstft(sig_rec_t,b,NFFT,d)\n",
    "\n",
    "\n",
    "print('Here is the result')\n",
    "print('If you think it looks like an impulse response, continue to the next cell')\n",
    "print('If you want to redo the phase compensation,go back to the cell \"6.1 Phase compensation\" ')\n",
    "print('(you will have the opportunity to modify the time origin later ')\n",
    "\n",
    "\n",
    "plt.figure(figsize=(7,5))\n",
    "plt.imshow(abs(tfr_sig_rec)**2,extent=[time[0,0], time[0,-1], freq[0,0], freq[0,-1]],aspect='auto', origin='low')\n",
    "plt.ylim([0,fs/2])\n",
    "plt.xlabel('Time (sec)')\n",
    "plt.ylabel('Frequency (Hz)')\n",
    "plt.title('Signal after phase compensation')\n",
    "plt.show()"
   ]
  },
  {
   "cell_type": "markdown",
   "metadata": {},
   "source": [
    "## 7.1 Play with time origin "
   ]
  },
  {
   "cell_type": "code",
   "execution_count": 9,
   "metadata": {},
   "outputs": [
    {
     "name": "stdout",
     "output_type": "stream",
     "text": [
      "You must now define the time origin\n",
      "Click once on the spectrogram at the position where you want to define the time origin\n"
     ]
    },
    {
     "data": {
      "application/vnd.jupyter.widget-view+json": {
       "model_id": "3642d53567b342428cae3d605210a648",
       "version_major": 2,
       "version_minor": 0
      },
      "text/plain": [
       "Canvas(toolbar=Toolbar(toolitems=[('Home', 'Reset original view', 'home', 'home'), ('Back', 'Back to previous …"
      ]
     },
     "metadata": {},
     "output_type": "display_data"
    },
    {
     "data": {
      "application/vnd.jupyter.widget-view+json": {
       "model_id": "3aa0884793a143e387fb73cc5cb5a189",
       "version_major": 2,
       "version_minor": 0
      },
      "text/plain": [
       "Button(description='Disconnect mpl', style=ButtonStyle())"
      ]
     },
     "metadata": {},
     "output_type": "display_data"
    },
    {
     "name": "stdout",
     "output_type": "stream",
     "text": [
      "When you have click to define the time origin, click \"disconnect mpl\" and continue\n"
     ]
    }
   ],
   "source": [
    "time_1=time[0,:]\n",
    "freq_1=freq[0,:]\n",
    "print('You must now define the time origin')\n",
    "print('Click once on the spectrogram at the position where you want to define the time origin')\n",
    "interactive(True)\n",
    "point= pts_select(abs(tfr_sig_rec[:512])**2,time_1,freq_1)\n",
    "print('When you have click to define the time origin, click \"disconnect mpl\" and continue') "
   ]
  },
  {
   "cell_type": "markdown",
   "metadata": {},
   "source": [
    "## 7. 2 Shorten the signal, make it start at the chosen time origin, and warp it"
   ]
  },
  {
   "cell_type": "code",
   "execution_count": 10,
   "metadata": {},
   "outputs": [
    {
     "name": "stdout",
     "output_type": "stream",
     "text": [
      "The left panel shows the spectrogram of the original \n",
      "signal with the chosen time origin\n",
      "The right panel shows the corresponding warped signal\n",
      "Repeat the previous cell if you want to redo the time origin selection\n",
      "Continue if you want to proceed with modal filtering \n",
      "\n"
     ]
    },
    {
     "data": {
      "application/vnd.jupyter.widget-view+json": {
       "model_id": "6d05c430dd4848bc92f088d7a3b26afb",
       "version_major": 2,
       "version_minor": 0
      },
      "text/plain": [
       "Canvas(toolbar=Toolbar(toolitems=[('Home', 'Reset original view', 'home', 'home'), ('Back', 'Back to previous …"
      ]
     },
     "metadata": {},
     "output_type": "display_data"
    },
    {
     "name": "stdout",
     "output_type": "stream",
     "text": [
      "Go back to the cell \"7.1 Play with time origin\", if you want to redo the time origin selection\n",
      "Continue if you want to proceed with modal filtering\n"
     ]
    }
   ],
   "source": [
    "# we extract the selected time origin \n",
    "pts=point.selected_points\n",
    "pts_a=np.array(pts)\n",
    "t_dec=pts_a[0,0]\n",
    "    \n",
    "## Shorten the signal, make it start at the chosen time origin, and warp it\n",
    "time_t_dec=np.abs(time-t_dec)\n",
    "ind0=np.where(time_t_dec==np.min(time_t_dec))\n",
    "ind0=ind0[1]\n",
    "ind0=ind0[0]\n",
    "\n",
    "s_ok=sig_rec_t[ind0:]\n",
    "N_ok=len(s_ok)\n",
    "\n",
    "\n",
    "\n",
    "#Corresponding time and frequency axis\n",
    "time_ok=np.arange(0,N_ok)/fs\n",
    "    \n",
    "#The warped signal will be s_w\n",
    "s_ok_1=np.transpose(s_ok)\n",
    "s_w, fs_w=warp_temp_exa(s_ok_1,fs,r,c1)\n",
    "M=len(s_w)\n",
    "\n",
    "\n",
    "### Original signal\n",
    "N_window=31  # you need a short window to see the modes\n",
    "a=np.arange(1,N_ok+1)\n",
    "a=a[np.newaxis,:]\n",
    "h=np.hamming(N_window)\n",
    "h=h[:,np.newaxis]\n",
    "tfr=tfrstft(s_ok,a,NFFT,h)\n",
    "spectro=abs(tfr)**2\n",
    "\n",
    "\n",
    "### Warped signal\n",
    "N_window_w=301  # You need a long window to see the warped modes\n",
    "wind=np.hamming(N_window_w)\n",
    "wind=wind/np.linalg.norm(wind)\n",
    "wind=wind[:,np.newaxis]\n",
    "b=np.arange(1,M+1)\n",
    "b=b[np.newaxis,:]\n",
    "tfr_w=tfrstft(s_w,b,NFFT,wind)\n",
    "spectro_w=abs(tfr_w)**2\n",
    "\n",
    "\n",
    "# Time and frequency axis of the warped signal\n",
    "time_w=np.arange(0,(M)/fs_w, 1/fs_w)\n",
    "freq_w=np.arange(0,fs_w-fs_w/NFFT+fs_w/NFFT,fs_w/NFFT)\n",
    "\n",
    "\n",
    "# Figure\n",
    "\n",
    "print('The left panel shows the spectrogram of the original ')\n",
    "print('signal with the chosen time origin')\n",
    "print('The right panel shows the corresponding warped signal')\n",
    "print('Repeat the previous cell if you want to redo the time origin selection')\n",
    "print('Continue if you want to proceed with modal filtering ')\n",
    "print('')\n",
    "\n",
    "plt.figure(figsize=(10,8))\n",
    "plt.subplot(121)\n",
    "plt.imshow( spectro, extent=[time_ok[0,0], time_ok[0,-1], freq[0,0], freq[0,-1]] ,aspect='auto', origin='low')\n",
    "plt.ylim([0, fs/2])\n",
    "plt.xlim([0, 0.5])  ### Adjust this to see better\n",
    "plt.xlabel('Time (sec)')\n",
    "plt.ylabel('Frequency (Hz)')\n",
    "plt.title('Original signal with chosen time origin')\n",
    "\n",
    "\n",
    "\n",
    "plt.subplot(122)\n",
    "plt.imshow(spectro_w, extent=[time_w[0], time_w[-1], freq_w[0], freq_w[-1]] ,aspect='auto', origin='low')\n",
    "plt.ylim([0,40]) ### Adjust this to see better\n",
    "plt.xlabel('Warped time (sec)')\n",
    "plt.ylabel('Corresponding warped frequency (Hz)')\n",
    "plt.title('Corresponding warped signal')\n",
    "plt.show()\n",
    "\n",
    "print('Go back to the cell \"7.1 Play with time origin\", if you want to redo the time origin selection')\n",
    "print('Continue if you want to proceed with modal filtering')"
   ]
  },
  {
   "cell_type": "markdown",
   "metadata": {},
   "source": [
    "## 8. Filtering"
   ]
  },
  {
   "cell_type": "markdown",
   "metadata": {},
   "source": [
    "#### Filter mode 1"
   ]
  },
  {
   "cell_type": "code",
   "execution_count": 11,
   "metadata": {},
   "outputs": [
    {
     "name": "stdout",
     "output_type": "stream",
     "text": [
      "Now try to filter the 4 modes\n",
      "Create the four masks sequentially, starting with mode 1, then 2, etc.\n",
      "To do so, click twice n the spectrogram to create a line and continue to define the region you want to filter \n",
      "Once you are ok with the mask shape, click \"Disconect mpl\" and continue\n",
      "(if needed, go back to c_warping_and_filtering.m for mask creation)\n",
      "\n",
      "Filter mode 1\n"
     ]
    },
    {
     "data": {
      "application/vnd.jupyter.widget-view+json": {
       "model_id": "6949fbcc998d4a85b5030e0677e53814",
       "version_major": 2,
       "version_minor": 0
      },
      "text/plain": [
       "Canvas(toolbar=Toolbar(toolitems=[('Home', 'Reset original view', 'home', 'home'), ('Back', 'Back to previous …"
      ]
     },
     "metadata": {},
     "output_type": "display_data"
    },
    {
     "data": {
      "application/vnd.jupyter.widget-view+json": {
       "model_id": "6fcf3d428c6143bb91a2a9b4bf2727d0",
       "version_major": 2,
       "version_minor": 0
      },
      "text/plain": [
       "Button(description='Disconnect mpl', style=ButtonStyle())"
      ]
     },
     "metadata": {},
     "output_type": "display_data"
    },
    {
     "name": "stdout",
     "output_type": "stream",
     "text": [
      "Continue to filter mode 2\n"
     ]
    }
   ],
   "source": [
    "## selection the spectro_w part to mask \n",
    "\n",
    "spectro_w_1=spectro_w[0:200,:]\n",
    "time_w_1=time_w\n",
    "freq_w_1=freq_w[:200]\n",
    "Nmode=4\n",
    "modes=np.zeros((N_ok,Nmode))\n",
    "tm=np.zeros((NFFT,Nmode))\n",
    "\n",
    "\n",
    "# To make it easier, filtering will be done by hand using the roipoly tool.\n",
    "# See python help for more information\n",
    "\n",
    "print('Now try to filter the 4 modes');\n",
    "print('Create the four masks sequentially, starting with mode 1, then 2, etc.')\n",
    "print('To do so, click twice n the spectrogram to create a line and continue to define the region you want to filter ')\n",
    "print('Once you are ok with the mask shape, click \"Disconect mpl\" and continue')\n",
    "print('(if needed, go back to c_warping_and_filtering.m for mask creation)')\n",
    "print('')\n",
    "\n",
    "# Let filter a mode 1\n",
    "print('Filter mode 1')\n",
    "interactive(True)\n",
    "section=bbox_select(spectro_w_1)\n",
    "#section=bbox_select(spectro_w_1,time_w_1,\n",
    "print('Continue to filter mode 2') "
   ]
  },
  {
   "cell_type": "markdown",
   "metadata": {},
   "source": [
    "#### Filter mode 2"
   ]
  },
  {
   "cell_type": "code",
   "execution_count": 12,
   "metadata": {},
   "outputs": [
    {
     "name": "stdout",
     "output_type": "stream",
     "text": [
      "Filter mode 2\n"
     ]
    },
    {
     "data": {
      "application/vnd.jupyter.widget-view+json": {
       "model_id": "cb885a1664174120a353dd894377d3cf",
       "version_major": 2,
       "version_minor": 0
      },
      "text/plain": [
       "Canvas(toolbar=Toolbar(toolitems=[('Home', 'Reset original view', 'home', 'home'), ('Back', 'Back to previous …"
      ]
     },
     "metadata": {},
     "output_type": "display_data"
    },
    {
     "data": {
      "application/vnd.jupyter.widget-view+json": {
       "model_id": "e8169acae1bd4857886c90b92845e168",
       "version_major": 2,
       "version_minor": 0
      },
      "text/plain": [
       "Button(description='Disconnect mpl', style=ButtonStyle())"
      ]
     },
     "metadata": {},
     "output_type": "display_data"
    },
    {
     "name": "stdout",
     "output_type": "stream",
     "text": [
      "Continue to filter mode 3\n"
     ]
    }
   ],
   "source": [
    "# create the mask of the section\n",
    "pts=section.selected_points\n",
    "nx, ny = np.shape(spectro_w_1)\n",
    "x, y = np.meshgrid(np.arange(ny), np.arange(nx))\n",
    "x, y = x.flatten(), y.flatten()\n",
    "points = np.vstack((x,y)).T\n",
    "path = Path(pts)\n",
    "grid = path.contains_points(points)\n",
    "mask = grid.reshape((nx,ny))\n",
    "\n",
    "masque_1=np.double(mask)\n",
    "\n",
    "# add the part masked to the total sprectogram array\n",
    "masque_0=np.zeros_like(spectro_w[200:,:])\n",
    "masque=np.concatenate((masque_1,masque_0),axis=0)\n",
    "\n",
    "\n",
    "mode_rtf_warp=masque*tfr_w\n",
    "norm=1/NFFT/np.max(wind)\n",
    "mode_temp_warp=np.real(np.sum(mode_rtf_warp,axis=0))*norm*2\n",
    "mode=iwarp_temp_exa(mode_temp_warp,fs_w,r,c1,fs,N_ok)\n",
    "modes[:,0]=mode[:,0]\n",
    "\n",
    "## Verification\n",
    "\n",
    "a=hilbert(mode)\n",
    "b=np.arange(1,N_ok+1)\n",
    "b=b[np.newaxis,:]\n",
    "h=np.hamming(N_window)\n",
    "h=h[:,np.newaxis]\n",
    "mode_stft=tfrstft(a,b,NFFT,h)\n",
    "mode_spectro=abs(mode_stft)**2\n",
    "tm_1,D2=momftfr(mode_spectro,0,N_ok,time_ok)\n",
    "tm[:,0]=tm_1[:,0]\n",
    "\n",
    "## Mode 2\n",
    "print('Filter mode 2')\n",
    "interactive(True)\n",
    "section_2=bbox_select(spectro_w_1)\n",
    "print('Continue to filter mode 3') "
   ]
  },
  {
   "cell_type": "markdown",
   "metadata": {},
   "source": [
    "#### Filter mode 3"
   ]
  },
  {
   "cell_type": "code",
   "execution_count": 13,
   "metadata": {},
   "outputs": [
    {
     "name": "stdout",
     "output_type": "stream",
     "text": [
      "Filter mode 3\n"
     ]
    },
    {
     "data": {
      "application/vnd.jupyter.widget-view+json": {
       "model_id": "974f8acadf844c238a8ab19c58fbad36",
       "version_major": 2,
       "version_minor": 0
      },
      "text/plain": [
       "Canvas(toolbar=Toolbar(toolitems=[('Home', 'Reset original view', 'home', 'home'), ('Back', 'Back to previous …"
      ]
     },
     "metadata": {},
     "output_type": "display_data"
    },
    {
     "data": {
      "application/vnd.jupyter.widget-view+json": {
       "model_id": "053f2a4d391148c181ff37121810bb50",
       "version_major": 2,
       "version_minor": 0
      },
      "text/plain": [
       "Button(description='Disconnect mpl', style=ButtonStyle())"
      ]
     },
     "metadata": {},
     "output_type": "display_data"
    },
    {
     "name": "stdout",
     "output_type": "stream",
     "text": [
      "Continue to filter mode 4\n"
     ]
    }
   ],
   "source": [
    "# create the mask of the section\n",
    "pts=section_2.selected_points\n",
    "nx, ny = np.shape(spectro_w_1)\n",
    "x, y = np.meshgrid(np.arange(ny), np.arange(nx))\n",
    "x, y = x.flatten(), y.flatten()\n",
    "points = np.vstack((x,y)).T\n",
    "path = Path(pts)\n",
    "grid = path.contains_points(points)\n",
    "mask = grid.reshape((nx,ny))\n",
    "\n",
    "masque_2=np.double(mask)\n",
    "\n",
    "# add the part masked to the total sprectogram array\n",
    "masque_2=np.concatenate((masque_2,masque_0),axis=0)\n",
    "\n",
    "\n",
    "mode_rtf_warp_2=masque_2*tfr_w\n",
    "mode_temp_warp_2=np.real(np.sum(mode_rtf_warp_2,axis=0))*norm*2\n",
    "mode_2=iwarp_temp_exa(mode_temp_warp_2,fs_w,r,c1,fs,N_ok)\n",
    "modes[:,1]=mode_2[:,0]\n",
    "\n",
    "## Verification\n",
    "a_2=hilbert(mode_2)\n",
    "mode_stft_2=tfrstft(a_2,b,NFFT,h)\n",
    "mode_spectro_2=abs(mode_stft_2)**2\n",
    "tm_2,D2_2=momftfr(mode_spectro_2,0,N_ok,time_ok)\n",
    "tm[:,1]=tm_2[:,0]\n",
    "## Mode 3\n",
    "print('Filter mode 3')\n",
    "interactive(True)\n",
    "section_3=bbox_select(spectro_w_1)\n",
    "print('Continue to filter mode 4') "
   ]
  },
  {
   "cell_type": "markdown",
   "metadata": {},
   "source": [
    "#### Filter mode 4"
   ]
  },
  {
   "cell_type": "code",
   "execution_count": 14,
   "metadata": {},
   "outputs": [
    {
     "name": "stdout",
     "output_type": "stream",
     "text": [
      "Filter mode 4\n"
     ]
    },
    {
     "data": {
      "application/vnd.jupyter.widget-view+json": {
       "model_id": "41246616f7b4445ba0e0051183f4bc73",
       "version_major": 2,
       "version_minor": 0
      },
      "text/plain": [
       "Canvas(toolbar=Toolbar(toolitems=[('Home', 'Reset original view', 'home', 'home'), ('Back', 'Back to previous …"
      ]
     },
     "metadata": {},
     "output_type": "display_data"
    },
    {
     "data": {
      "application/vnd.jupyter.widget-view+json": {
       "model_id": "a6512d3d85cb43c3aac10a89baf7ef0c",
       "version_major": 2,
       "version_minor": 0
      },
      "text/plain": [
       "Button(description='Disconnect mpl', style=ButtonStyle())"
      ]
     },
     "metadata": {},
     "output_type": "display_data"
    },
    {
     "name": "stdout",
     "output_type": "stream",
     "text": [
      "When you have finish,click \"disconnect mpl\" and continue\n"
     ]
    }
   ],
   "source": [
    "# create the mask of the section\n",
    "pts=section_3.selected_points\n",
    "nx, ny = np.shape(spectro_w_1)\n",
    "x, y = np.meshgrid(np.arange(ny), np.arange(nx))\n",
    "x, y = x.flatten(), y.flatten()\n",
    "points = np.vstack((x,y)).T\n",
    "path = Path(pts)\n",
    "grid = path.contains_points(points)\n",
    "mask = grid.reshape((nx,ny))\n",
    "\n",
    "masque_3=np.double(mask)\n",
    "\n",
    "# add the part masked to the total sprectogram array\n",
    "masque_3=np.concatenate((masque_3,masque_0),axis=0)\n",
    "\n",
    "\n",
    "mode_rtf_warp_3=masque_3*tfr_w\n",
    "mode_temp_warp_3=np.real(np.sum(mode_rtf_warp_3,axis=0))*norm*2\n",
    "mode_3=iwarp_temp_exa(mode_temp_warp_3,fs_w,r,c1,fs,N_ok)\n",
    "modes[:,2]=mode_3[:,0]\n",
    "\n",
    "## Verification\n",
    "\n",
    "a_3=hilbert(mode_3)\n",
    "mode_stft_3=tfrstft(a_3,b,NFFT,h)\n",
    "mode_spectro_3=abs(mode_stft_3)**2\n",
    "tm_3,D2_3=momftfr(mode_spectro_3,0,N_ok,time_ok)\n",
    "tm[:,2]=tm_3[:,0]\n",
    "\n",
    "## Mode 4\n",
    "print('Filter mode 4')\n",
    "interactive(True)\n",
    "section_4=bbox_select(spectro_w_1)\n",
    "print('When you have finish,click \"disconnect mpl\" and continue') "
   ]
  },
  {
   "cell_type": "code",
   "execution_count": 15,
   "metadata": {},
   "outputs": [
    {
     "name": "stdout",
     "output_type": "stream",
     "text": [
      "End of filtering\n",
      "Continue\n"
     ]
    }
   ],
   "source": [
    "# create the mask of the section\n",
    "pts=section_4.selected_points\n",
    "nx, ny = np.shape(spectro_w_1)\n",
    "x, y = np.meshgrid(np.arange(ny), np.arange(nx))\n",
    "x, y = x.flatten(), y.flatten()\n",
    "points = np.vstack((x,y)).T\n",
    "path = Path(pts)\n",
    "grid = path.contains_points(points)\n",
    "mask = grid.reshape((nx,ny))\n",
    "masque_4=np.double(mask)\n",
    "\n",
    "# add the part masked to the total sprectogram array\n",
    "masque_4=np.concatenate((masque_4,masque_0),axis=0)\n",
    "\n",
    "\n",
    "mode_rtf_warp_4=masque_4*tfr_w\n",
    "mode_temp_warp_4=np.real(np.sum(mode_rtf_warp_4,axis=0))*norm*2\n",
    "mode_4=iwarp_temp_exa(mode_temp_warp_4,fs_w,r,c1,fs,N_ok)\n",
    "modes[:,3]=mode_4[:,0]\n",
    "\n",
    "## Verification\n",
    "\n",
    "a_4=hilbert(mode_4)\n",
    "mode_stft_4=tfrstft(a_4,b,NFFT,h)\n",
    "mode_spectro_4=abs(mode_stft_4)**2\n",
    "tm_4,D2=momftfr(mode_spectro_4,0,N_ok,time_ok)\n",
    "tm[:,3]=tm_4[:,0]\n",
    "\n",
    "print('End of filtering')\n",
    "print('Continue')"
   ]
  },
  {
   "cell_type": "markdown",
   "metadata": {},
   "source": [
    "## 9. Verification"
   ]
  },
  {
   "cell_type": "code",
   "execution_count": 16,
   "metadata": {},
   "outputs": [
    {
     "name": "stdout",
     "output_type": "stream",
     "text": [
      "The red lines are the estimated dispersion curves.\n",
      "For real life applications, you will have to restrict them to a frequency band where they are ok\n",
      "Now we need to undo the phase compensation to look at the true filtered mode\n"
     ]
    },
    {
     "data": {
      "application/vnd.jupyter.widget-view+json": {
       "model_id": "86bf1e0941f14f5591a4e977c818023c",
       "version_major": 2,
       "version_minor": 0
      },
      "text/plain": [
       "Canvas(toolbar=Toolbar(toolitems=[('Home', 'Reset original view', 'home', 'home'), ('Back', 'Back to previous …"
      ]
     },
     "metadata": {},
     "output_type": "display_data"
    },
    {
     "name": "stdout",
     "output_type": "stream",
     "text": [
      "Continue to look at your result vs the true modes\n"
     ]
    }
   ],
   "source": [
    "print('The red lines are the estimated dispersion curves.')\n",
    "print('For real life applications, you will have to restrict them to a frequency band where they are ok')\n",
    "print('Now we need to undo the phase compensation to look at the true filtered mode')\n",
    "\n",
    "\n",
    "plt.figure(figsize=[10,7])\n",
    "plt.imshow(spectro, extent=[time_ok[0,0], time_ok[0,-1], freq[0,0], freq[0,-1]],aspect='auto',origin='low')\n",
    "plt.ylim([0,fs/2])\n",
    "plt.xlabel('Time (sec)')\n",
    "plt.ylabel('Frequency (Hz)')\n",
    "plt.title('Spectrogram and estimated dispersion curve')\n",
    "plt.plot(tm[:,0],freq[0, :],'r')\n",
    "plt.plot(tm[:,1],freq[0, :],'r')\n",
    "plt.plot(tm[:,2],freq[0, :],'r')\n",
    "plt.plot(tm[:,3],freq[0, :],'r')\n",
    "plt.show()\n",
    "\n",
    "\n",
    "\n",
    "print('Continue to look at your result vs the true modes')\n"
   ]
  },
  {
   "cell_type": "markdown",
   "metadata": {},
   "source": [
    "## 10. Let's undo phase compensation"
   ]
  },
  {
   "cell_type": "code",
   "execution_count": 17,
   "metadata": {},
   "outputs": [
    {
     "name": "stdout",
     "output_type": "stream",
     "text": [
      "This is the spectrogram of the original signal,\n",
      "the true dispersion curves (black) and your estimation (red).\n",
      "Remember that the estimated dispersion curve are \n",
      "relevant only in the frequency band where they match\n",
      "the estimated spectrogram.\n",
      "If you do not like the result, try to redo phase compensation and/or change time origin\n"
     ]
    },
    {
     "data": {
      "application/vnd.jupyter.widget-view+json": {
       "model_id": "639e664663d0456c830f49c6ce7d111d",
       "version_major": 2,
       "version_minor": 0
      },
      "text/plain": [
       "Canvas(toolbar=Toolbar(toolitems=[('Home', 'Reset original view', 'home', 'home'), ('Back', 'Back to previous …"
      ]
     },
     "metadata": {},
     "output_type": "display_data"
    },
    {
     "name": "stdout",
     "output_type": "stream",
     "text": [
      " \n",
      "END\n"
     ]
    }
   ],
   "source": [
    "### look at e_warping_and_filtering_and_phase_comp.m if you want to undo\n",
    "### phase compensation for the filtered modes. Here, we will only undo it\n",
    "### for the dispersion curves\n",
    "\n",
    "data = sio.loadmat(os.getcwd()+ '/sig_pek_and_modes_for_warp.mat')\n",
    "r=data['r']\n",
    "vg=data['vg']\n",
    "c1=data['c1']\n",
    "f_vg=data['f_vg']\n",
    "\n",
    "#### we need a few tricks to create the theoretical dispersion curves\n",
    "###### first the dispersion curves of the impulse response\n",
    "\n",
    "tm_theo_ir=r/vg-r/c1 ### range over group_speed minus correction for time origin\n",
    "\n",
    "##### now we need to include the source law ....\n",
    "f_source=IFLAW_source*fs\n",
    "t_source=np.arange(0,len(IFLAW_source))/fs\n",
    "\n",
    "f = interpolate.interp1d(f_source[0,:], t_source[0,:], bounds_error=False, fill_value=np.nan )\n",
    "t_source_ok = f(f_vg[0,:]) \n",
    "t_source_ok_1=np.tile(t_source_ok,(5,1))\n",
    "tm_theo_with_source=tm_theo_ir+t_source_ok_1\n",
    "\n",
    "\n",
    "#### Now we modify our estimated dispersion curve to undo phase compensation\n",
    "###### first we define the time-frequency law of our estimated source\n",
    "\n",
    "f_source_est=IFLAW_est*fs\n",
    "t_source_est=np.arange(0,len(IFLAW_est))/fs\n",
    "\n",
    "##### we need it on the same frequency axis than the dispersion curves\n",
    "\n",
    "f = interpolate.interp1d(f_source_est[:,0], t_source_est[0,:], bounds_error=False, fill_value=np.nan )\n",
    "t_source_est_ok = f(freq[0,:]) \n",
    "t_source_est_ok=t_source_est_ok[:,np.newaxis]\n",
    "t_source_est_ok_1=np.tile(t_source_ok,(4,1))\n",
    "tm_est_with_source=tm+t_source_est_ok+t_dec\n",
    "\n",
    "\n",
    "print('This is the spectrogram of the original signal,')\n",
    "print('the true dispersion curves (black) and your estimation (red).')\n",
    "print('Remember that the estimated dispersion curve are ')\n",
    "print('relevant only in the frequency band where they match')\n",
    "print('the estimated spectrogram.')\n",
    "print('If you do not like the result, try to redo phase compensation and/or change time origin')\n",
    "\n",
    "\n",
    "\n",
    "plt.figure()\n",
    "plt.imshow(spectro_init, extent=[time_init[0,0], time_init[0,-1], freq_init[0,0], freq_init[0,-1]],aspect='auto', origin='low' )\n",
    "plt.xlim([0,1.2])\n",
    "plt.ylim([0,fs/2])\n",
    "plt.xlabel('Time (sec)')\n",
    "plt.ylabel('Frequency (Hz)')\n",
    "plt.title('Original signal and estimated dispersion curve')\n",
    "\n",
    "plt.plot(tm_theo_with_source[0,:], f_vg[0,:], 'black')\n",
    "plt.plot(tm_theo_with_source[1,:], f_vg[0,:], 'black')\n",
    "plt.plot(tm_theo_with_source[2,:], f_vg[0,:], 'black')\n",
    "plt.plot(tm_theo_with_source[3,:], f_vg[0,:], 'black')\n",
    "plt.plot(tm_est_with_source[:,0],freq[0,:], linewidth=2, color='r')\n",
    "plt.plot(tm_est_with_source[:,1],freq[0,:], linewidth=2, color='r')\n",
    "plt.plot(tm_est_with_source[:,2],freq[0,:], linewidth=2, color='r')\n",
    "plt.plot(tm_est_with_source[:,3],freq[0,:], linewidth=2, color='r')\n",
    "\n",
    "\n",
    "plt.show()\n",
    "\n",
    "print(' ')\n",
    "print('END')"
   ]
  }
 ],
 "metadata": {
  "kernelspec": {
   "display_name": "Python 3",
   "language": "python",
   "name": "python3"
  },
  "language_info": {
   "codemirror_mode": {
    "name": "ipython",
    "version": 3
   },
   "file_extension": ".py",
   "mimetype": "text/x-python",
   "name": "python",
   "nbconvert_exporter": "python",
   "pygments_lexer": "ipython3",
   "version": "3.7.2"
  }
 },
 "nbformat": 4,
 "nbformat_minor": 4
}

{
 "cells": [
  {
   "cell_type": "markdown",
   "metadata": {},
   "source": [
    "## Warping tutorial\n",
    "#### C_warping_and_filtering\n",
    "\n",
    "##### April 2020\n",
    "###### Eva Chamorro - Daniel Zitterbart - Julien Bonnel"
   ]
  },
  {
   "cell_type": "markdown",
   "metadata": {},
   "source": [
    "## 1. Import packages"
   ]
  },
  {
   "cell_type": "code",
   "execution_count": 3,
   "metadata": {},
   "outputs": [],
   "source": [
    "import os\n",
    "import matplotlib\n",
    "import numpy as np\n",
    "import matplotlib.pyplot as plt\n",
    "import scipy.io as sio\n",
    "%matplotlib widget\n",
    "from matplotlib import interactive\n",
    "from matplotlib.path import Path\n",
    "from warping_functions import *\n",
    "from time_frequency_analysis_functions import *\n",
    "from bbox_select import *\n",
    "from scipy.signal import hilbert"
   ]
  },
  {
   "cell_type": "markdown",
   "metadata": {},
   "source": [
    "## 2. Load simulated signal"
   ]
  },
  {
   "cell_type": "code",
   "execution_count": 4,
   "metadata": {},
   "outputs": [],
   "source": [
    "data = sio.loadmat(os.getcwd()+ '/sig_pek_for_warp.mat')\n",
    "\n",
    "'''\n",
    "    s_t: propagated modes in a Pekeris waveguide with parameters\n",
    "    c1, c2, rho1, rho2: sound speed / density\n",
    "        D: depth\n",
    "        r: range\n",
    "        zs, zr: source/receiver depth\n",
    "    s_t_dec: same than s_t, except that time origin has been set for warping\n",
    "    fs: sampling frequency\n",
    "    \n",
    "   \n",
    "     NB: one can run optional_create_simulated_signal.m to generate another\n",
    "     simulated signal\n",
    "'''\n",
    "\n",
    "# Select variables \n",
    "s_t=data['s_t']\n",
    "fs=data['fs']\n",
    "s_t_dec=data['s_t_dec']\n",
    "r=data['r']\n",
    "c1=data['c1']"
   ]
  },
  {
   "cell_type": "markdown",
   "metadata": {},
   "source": [
    "## 3. Process signal"
   ]
  },
  {
   "cell_type": "code",
   "execution_count": 5,
   "metadata": {},
   "outputs": [],
   "source": [
    "# The first sample of s_t_dec corresponds to time r/c1\n",
    "\n",
    "# Make the signal shorter, no need to keep samples with zeros\n",
    "N_ok=150\n",
    "s_ok=s_t_dec[:,0:N_ok]\n",
    "\n",
    "# Corresponding time and frequency axis\n",
    "time=np.arange(0,N_ok)/fs\n",
    "\n",
    "# The warped signal will be s_w\n",
    "[s_w, fs_w]=warp_temp_exa(s_ok,fs,r,c1)\n",
    "M=len(s_w)"
   ]
  },
  {
   "cell_type": "markdown",
   "metadata": {},
   "source": [
    "## 4. Time frequency representations"
   ]
  },
  {
   "cell_type": "markdown",
   "metadata": {},
   "source": [
    "### 4.1 Original signal"
   ]
  },
  {
   "cell_type": "code",
   "execution_count": 7,
   "metadata": {},
   "outputs": [
    {
     "name": "stdout",
     "output_type": "stream",
     "text": [
      "This is the spectrogram of the received signal\n",
      "We will now warp it\n"
     ]
    },
    {
     "data": {
      "application/vnd.jupyter.widget-view+json": {
       "model_id": "0c88a42d85534120a139a270d0962d7c",
       "version_major": 2,
       "version_minor": 0
      },
      "text/plain": [
       "Canvas(toolbar=Toolbar(toolitems=[('Home', 'Reset original view', 'home', 'home'), ('Back', 'Back to previous …"
      ]
     },
     "metadata": {},
     "output_type": "display_data"
    },
    {
     "name": "stdout",
     "output_type": "stream",
     "text": [
      "Continue to proceed with warping\n"
     ]
    }
   ],
   "source": [
    "### Original signal\n",
    "# STFT computation\n",
    "NFFT=1024\n",
    "N_window=31 ### you need a short window to see the modes\n",
    "b=np.arange(1,N_ok+1)\n",
    "b=b[np.newaxis,:]\n",
    "d=np.hamming(N_window)\n",
    "d=d[:,np.newaxis]\n",
    "tfr=tfrstft(s_ok,b,NFFT,d)\n",
    "spectro=abs(tfr)**2\n",
    "\n",
    "\n",
    "# Figure\n",
    "\n",
    "print('This is the spectrogram of the received signal')\n",
    "print('We will now warp it')\n",
    "\n",
    "freq=(np.arange(0,NFFT))*fs/NFFT\n",
    "\n",
    "plt.figure()\n",
    "plt.imshow(spectro, extent=[time[0,0], time[0,-1], freq[0,0], freq[0,-1]],aspect='auto')\n",
    "plt.ylim([0, fs/2])\n",
    "plt.xlim([0, 0.5])  ### Adjust this to see better\n",
    "plt.xlabel('Time (sec)')\n",
    "plt.ylabel('Frequency (Hz)')\n",
    "plt.title('Original signal')\n",
    "plt.show()\n",
    "\n",
    "\n",
    "\n",
    "print('Continue to proceed with warping')"
   ]
  },
  {
   "cell_type": "markdown",
   "metadata": {},
   "source": [
    "### 4.2 Warped signal"
   ]
  },
  {
   "cell_type": "code",
   "execution_count": 26,
   "metadata": {},
   "outputs": [
    {
     "name": "stdout",
     "output_type": "stream",
     "text": [
      "This is the spectrogram of the warped signal\n",
      "\n"
     ]
    },
    {
     "data": {
      "application/vnd.jupyter.widget-view+json": {
       "model_id": "7bcbeed7433841c3a5d317b608c01345",
       "version_major": 2,
       "version_minor": 0
      },
      "text/plain": [
       "Canvas(toolbar=Toolbar(toolitems=[('Home', 'Reset original view', 'home', 'home'), ('Back', 'Back to previous …"
      ]
     },
     "metadata": {},
     "output_type": "display_data"
    },
    {
     "name": "stdout",
     "output_type": "stream",
     "text": [
      "Continue to filtering\n"
     ]
    }
   ],
   "source": [
    "## Warped signal\n",
    "\n",
    "# STFT computation\n",
    "\n",
    "N_window_w=301 # You need a long window to see the warped modes\n",
    "wind=np.hamming(N_window_w)\n",
    "wind=wind/np.linalg.norm(wind)\n",
    "wind=wind[:,np.newaxis]\n",
    "t=np.arange(1,M+1)\n",
    "t=t[np.newaxis,:]\n",
    "\n",
    "tfr_w=tfrstft(s_w,t,NFFT,wind)\n",
    "\n",
    "spectro_w=abs(tfr_w)**2\n",
    "\n",
    "## Time and Frequency axis of the warped signal\n",
    "time_w=np.arange(0,(M)/fs_w,1/fs_w)\n",
    "freq_w=np.arange(0,NFFT)*fs/NFFT\n",
    "\n",
    "\n",
    "## selection the spectro_w part to mask \n",
    "spectro_w_1=spectro_w[0:200,:]\n",
    "\n",
    "# Figure\n",
    "\n",
    "print('This is the spectrogram of the warped signal')\n",
    "print('')\n",
    "\n",
    "plt.figure()\n",
    "plt.imshow(spectro_w, extent=[time_w[0], time_w[-1], freq_w[0,0], freq_w[0,-1]],aspect='auto',origin='low' )\n",
    "plt.ylim([0,40])\n",
    "plt.xlabel('Warped time (sec)')\n",
    "plt.ylabel('Corresponding warped frequency (Hz)')\n",
    "plt.title('Warped signal')\n",
    "plt.show(block=False)\n",
    "\n",
    "print('Continue to filtering')"
   ]
  },
  {
   "cell_type": "markdown",
   "metadata": {},
   "source": [
    "## 5. Filtering"
   ]
  },
  {
   "cell_type": "code",
   "execution_count": 28,
   "metadata": {},
   "outputs": [
    {
     "name": "stdout",
     "output_type": "stream",
     "text": [
      "We will now filter a single mode by creating a time-frequency mask.\n",
      "To do so, click twice n the spectrogram to create a line and continue to define the region you want to filter \n",
      "Once you are ok with the mask shape, click \"Disconect mpl\"\n",
      "Look at Fig. 11 in the paper for a mask shape suggestion\n"
     ]
    },
    {
     "data": {
      "application/vnd.jupyter.widget-view+json": {
       "model_id": "3f76e4c25f4949a791ad76aa74712257",
       "version_major": 2,
       "version_minor": 0
      },
      "text/plain": [
       "Canvas(toolbar=Toolbar(toolitems=[('Home', 'Reset original view', 'home', 'home'), ('Back', 'Back to previous …"
      ]
     },
     "metadata": {},
     "output_type": "display_data"
    },
    {
     "data": {
      "application/vnd.jupyter.widget-view+json": {
       "model_id": "e1d17f16b1f7450c8803c963f9f9f3c1",
       "version_major": 2,
       "version_minor": 0
      },
      "text/plain": [
       "Button(description='Disconnect mpl', style=ButtonStyle())"
      ]
     },
     "metadata": {},
     "output_type": "display_data"
    },
    {
     "name": "stdout",
     "output_type": "stream",
     "text": [
      "Continue to see the result\n"
     ]
    }
   ],
   "source": [
    "## Filtering\n",
    "\n",
    "# To make it easier, filtering will be done by hand using the roipoly tool.\n",
    "# See python help for more information\n",
    "\n",
    "print('We will now filter a single mode by creating a time-frequency mask.')\n",
    "print('To do so, click twice n the spectrogram to create a line and continue to define the region you want to filter ')\n",
    "print('Once you are ok with the mask shape, click \"Disconect mpl\"')\n",
    "print('Look at Fig. 11 in the paper for a mask shape suggestion')\n",
    "\n",
    "\n",
    "#Let use bbox_select\n",
    "interactive(True)\n",
    "section= bbox_select(spectro_w_1)\n",
    "\n",
    "print('Continue to see the result')"
   ]
  },
  {
   "cell_type": "code",
   "execution_count": 29,
   "metadata": {},
   "outputs": [
    {
     "name": "stdout",
     "output_type": "stream",
     "text": [
      "Continue\n"
     ]
    }
   ],
   "source": [
    "# create the mask of the section\n",
    "pts=section.selected_points\n",
    "nx, ny = np.shape(spectro_w_1)\n",
    "x, y = np.meshgrid(np.arange(ny), np.arange(nx))\n",
    "x, y = x.flatten(), y.flatten()\n",
    "points = np.vstack((x,y)).T\n",
    "path = Path(pts)\n",
    "grid = path.contains_points(points)\n",
    "mask = grid.reshape((nx,ny))\n",
    "\n",
    "masque_1=np.double(mask)\n",
    "\n",
    "# add the part masked to the total sprectogram array\n",
    "masque_2=np.zeros_like(spectro_w[200:,:])\n",
    "masque=np.concatenate((masque_1,masque_2),axis=0)\n",
    "\n",
    "# Note that the mask is applied on the STFT (not on the spectrogram)\n",
    "mode_rtf_warp=masque*tfr_w\n",
    "norm=1/NFFT/np.max(wind)\n",
    "mode_temp_warp=np.real(np.sum(mode_rtf_warp,axis=0))*norm*2\n",
    "\n",
    "# The modes are actually real quantities, so that they have negative frequencies.\n",
    "# Because we do not filter negative frequencies, we need to multiply by 2\n",
    "# the positive frequencies we have filter in order to recover the correct\n",
    "# modal energy \n",
    "mode=iwarp_temp_exa(mode_temp_warp,fs_w,r,c1,fs,N_ok)\n",
    "\n",
    "print('Continue')"
   ]
  },
  {
   "cell_type": "markdown",
   "metadata": {},
   "source": [
    "## 6. Verification"
   ]
  },
  {
   "cell_type": "code",
   "execution_count": 30,
   "metadata": {},
   "outputs": [
    {
     "name": "stdout",
     "output_type": "stream",
     "text": [
      "The red line is the estimated dispersion curve.\n",
      "You have to restrict it to a frequency band where it is relevant: the red line\n",
      "is supposed to follow the mode for frequencies where the mode has a high amplitude,\n",
      "but it can look noisy at frequencies where the mode has a low amplitude (e.g. at frequencies below cutoff) \n",
      "...\n",
      "If the result is not satisfying, you must create a new filtering mask\n",
      "If the result is ok, you can try another mode!\n"
     ]
    },
    {
     "data": {
      "application/vnd.jupyter.widget-view+json": {
       "model_id": "a910a858d0c449feb19eedd9b7e0ea73",
       "version_major": 2,
       "version_minor": 0
      },
      "text/plain": [
       "Canvas(toolbar=Toolbar(toolitems=[('Home', 'Reset original view', 'home', 'home'), ('Back', 'Back to previous …"
      ]
     },
     "metadata": {},
     "output_type": "display_data"
    },
    {
     "name": "stdout",
     "output_type": "stream",
     "text": [
      "Continue to look at your result vs the true modes\n"
     ]
    }
   ],
   "source": [
    "# you can estimate the dispersion curve by computing the\n",
    "# frequency moment of the filtered mode TFR\n",
    "\n",
    "a=hilbert(mode)\n",
    "b=np.arange(1,N_ok+1)\n",
    "b=b[np.newaxis,:]\n",
    "d=np.hamming(N_window)\n",
    "d=d[:,np.newaxis]\n",
    "\n",
    "mode_stft=tfrstft(a,b,NFFT,d)\n",
    "mode_spectro=abs(mode_stft)**2\n",
    "tm,D2=momftfr(mode_spectro,0,N_ok,time)\n",
    "\n",
    "\n",
    "\n",
    "print('The red line is the estimated dispersion curve.')\n",
    "print('You have to restrict it to a frequency band where it is relevant: the red line')\n",
    "print('is supposed to follow the mode for frequencies where the mode has a high amplitude,')\n",
    "print('but it can look noisy at frequencies where the mode has a low amplitude (e.g. at frequencies below cutoff) ')\n",
    "print('...')\n",
    "print('If the result is not satisfying, you must create a new filtering mask')\n",
    "print('If the result is ok, you can try another mode!')\n",
    "\n",
    "plt.figure()\n",
    "plt.imshow(spectro, extent=[time[0,0], time[0,-1], freq[0,0], freq[0,-1]],aspect='auto')\n",
    "plt.ylim([0,fs/2])\n",
    "plt.xlabel('Time (sec)')\n",
    "plt.ylabel('Frequency (Hz)')\n",
    "plt.title('Spectrogram and estimated dispersion curve')\n",
    "plt.plot(tm[:,0],freq[0, :],'r')\n",
    "plt.show()\n",
    "\n",
    "print('Continue to look at your result vs the true modes')"
   ]
  },
  {
   "cell_type": "markdown",
   "metadata": {},
   "source": [
    "## 7. Last verification"
   ]
  },
  {
   "cell_type": "code",
   "execution_count": 31,
   "metadata": {},
   "outputs": [
    {
     "name": "stdout",
     "output_type": "stream",
     "text": [
      "This is the same figure than before, except that the true dispersion curves are now in black.\n",
      "How well did you do?\n",
      " \n",
      "Recall that you have to restrict interpretation of the dispersion curve (red line)\n",
      "to only the frequency band where it is relevant. The black and red lines will not match\n",
      "entirely for the length of the red line\n",
      " \n"
     ]
    },
    {
     "data": {
      "application/vnd.jupyter.widget-view+json": {
       "model_id": "752900e21e954a108ab3e64f3bd203a5",
       "version_major": 2,
       "version_minor": 0
      },
      "text/plain": [
       "Canvas(toolbar=Toolbar(toolitems=[('Home', 'Reset original view', 'home', 'home'), ('Back', 'Back to previous …"
      ]
     },
     "metadata": {},
     "output_type": "display_data"
    },
    {
     "name": "stdout",
     "output_type": "stream",
     "text": [
      " \n",
      "END\n"
     ]
    }
   ],
   "source": [
    "data = sio.loadmat(os.getcwd()+ '/sig_pek_and_modes_for_warp.mat')\n",
    "r=data['r']\n",
    "vg=data['vg']\n",
    "c1=data['c1']\n",
    "f_vg=data['f_vg']\n",
    "\n",
    "\n",
    "### creation of the theoretical dispersion curves\n",
    "tm_theo=r/vg-r/c1; ### range over group_speed minus correction for time origin\n",
    "\n",
    "\n",
    "print('This is the same figure than before, except that the true dispersion curves are now in black.')\n",
    "print('How well did you do?')\n",
    "print(' ')\n",
    "print('Recall that you have to restrict interpretation of the dispersion curve (red line)')\n",
    "print('to only the frequency band where it is relevant. The black and red lines will not match')\n",
    "print('entirely for the length of the red line')\n",
    "print(' ')\n",
    "\n",
    "plt.figure()\n",
    "plt.imshow(spectro, extent=[time[0,0], time[0,-1], freq[0,0], freq[0,-1]],aspect='auto')\n",
    "plt.ylim([0,fs/2])\n",
    "plt.xlim([0,0.74])\n",
    "plt.xlabel('Time (sec)')\n",
    "plt.ylabel('Frequency (Hz)')\n",
    "plt.title('Spectrogram and estimated dispersion curve')\n",
    "plt.plot(tm_theo[0,:], f_vg[0,:], 'black')\n",
    "plt.plot(tm_theo[1,:], f_vg[0,:], 'black')\n",
    "plt.plot(tm_theo[2,:], f_vg[0,:], 'black')\n",
    "plt.plot(tm_theo[3,:], f_vg[0,:], 'black')\n",
    "plt.plot(tm[:,0],freq[0, :],'red')\n",
    "plt.show()\n",
    "\n",
    "print(' ')\n",
    "print('END')"
   ]
  }
 ],
 "metadata": {
  "kernelspec": {
   "display_name": "Python 3",
   "language": "python",
   "name": "python3"
  },
  "language_info": {
   "codemirror_mode": {
    "name": "ipython",
    "version": 3
   },
   "file_extension": ".py",
   "mimetype": "text/x-python",
   "name": "python",
   "nbconvert_exporter": "python",
   "pygments_lexer": "ipython3",
   "version": "3.7.7"
  }
 },
 "nbformat": 4,
 "nbformat_minor": 4
}

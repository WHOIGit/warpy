{
 "cells": [
  {
   "cell_type": "markdown",
   "metadata": {},
   "source": [
    "# Warping tutorial\n",
    "## e_warping_and_filtering_and_phase_comp\n",
    "\n",
    "##### May 2020\n",
    "###### Eva Chamorro - Daniel Zitterbart - Julien Bonnel"
   ]
  },
  {
   "cell_type": "markdown",
   "metadata": {},
   "source": [
    "## 1. Import packages"
   ]
  },
  {
   "cell_type": "code",
   "execution_count": 1,
   "metadata": {},
   "outputs": [],
   "source": [
    "import os\n",
    "import matplotlib\n",
    "import numpy as np\n",
    "import matplotlib.pyplot as plt\n",
    "import scipy.io as sio\n",
    "%matplotlib widget\n",
    "from matplotlib import interactive\n",
    "from matplotlib.path import Path\n",
    "from scipy.signal import hilbert\n",
    "from scipy import interpolate\n",
    "from scipy.fftpack import fft, ifft\n",
    "from warping_functions import *\n",
    "from time_frequency_analysis_functions import *\n",
    "from bbox_select import *\n",
    "import warnings\n",
    "warnings.filterwarnings('ignore')"
   ]
  },
  {
   "cell_type": "markdown",
   "metadata": {},
   "source": [
    "## 2. Load simulated signal"
   ]
  },
  {
   "cell_type": "code",
   "execution_count": 2,
   "metadata": {},
   "outputs": [],
   "source": [
    "data = sio.loadmat(os.getcwd()+ '/sig_pek_for_warp.mat')\n",
    "\n",
    "\n",
    "'''\n",
    "    s_t: propagated modes in a Pekeris waveguide with parameters\n",
    "    c1, c2, rho1, rho2: sound speed / density\n",
    "        D: depth\n",
    "        r: range\n",
    "        zs, zr: source/receiver depth\n",
    "    s_t_dec: same than s_t, except that time origin has been set for warping\n",
    "    fs: sampling frequency\n",
    "    \n",
    "   \n",
    "     NB: one can run optional_create_simulated_signal.m to generate another\n",
    "     simulated signal\n",
    "'''\n",
    "# Select variables\n",
    "s_t=data['s_t']\n",
    "fs=data['fs']\n",
    "s_t_dec=data['s_t_dec']\n",
    "r=data['r']\n",
    "c1=data['c1']"
   ]
  },
  {
   "cell_type": "markdown",
   "metadata": {},
   "source": [
    "## 3. Process signal "
   ]
  },
  {
   "cell_type": "code",
   "execution_count": 3,
   "metadata": {},
   "outputs": [
    {
     "name": "stdout",
     "output_type": "stream",
     "text": [
      "Continue\n"
     ]
    }
   ],
   "source": [
    "# The first sample of s_t_dec corresponds to time r/c1\n",
    "# Make the signal shorter, no need to keep samples with zeros\n",
    "N_ok=250\n",
    "ir_ok=s_t_dec[:,0:N_ok]\n",
    "print('Continue')"
   ]
  },
  {
   "cell_type": "markdown",
   "metadata": {},
   "source": [
    "## 4. Source signal creation"
   ]
  },
  {
   "cell_type": "code",
   "execution_count": 4,
   "metadata": {},
   "outputs": [
    {
     "name": "stdout",
     "output_type": "stream",
     "text": [
      "Continue\n"
     ]
    }
   ],
   "source": [
    "X,IFLAW_source=fmpar(200,np.array([1,0.5]),np.array([100,0.15]),np.array([200,0.01]))\n",
    "\n",
    "\n",
    "# source signal is a parabolic modulated FM signal\n",
    "source=X*(IFLAW_source+1)\n",
    "N_source=len(source)\n",
    "\n",
    "print('Continue')"
   ]
  },
  {
   "cell_type": "markdown",
   "metadata": {},
   "source": [
    "## 5. Propagated signal"
   ]
  },
  {
   "cell_type": "code",
   "execution_count": 5,
   "metadata": {},
   "outputs": [
    {
     "name": "stdout",
     "output_type": "stream",
     "text": [
      "The source is a non-linear (parabolic) FM signal\n",
      "The received signal is highly influenced by the source\n"
     ]
    },
    {
     "data": {
      "application/vnd.jupyter.widget-view+json": {
       "model_id": "08c920dbe5864f2590505a9d01dd482f",
       "version_major": 2,
       "version_minor": 0
      },
      "text/plain": [
       "Canvas(toolbar=Toolbar(toolitems=[('Home', 'Reset original view', 'home', 'home'), ('Back', 'Back to previous …"
      ]
     },
     "metadata": {},
     "output_type": "display_data"
    },
    {
     "name": "stdout",
     "output_type": "stream",
     "text": [
      "Looking at the received signal, you may think that the source is a linear FM downsweep.\n",
      "Although wrong, this is a good enough approximation for warping\n",
      "Let us illustrate this, continue\n",
      "\n"
     ]
    }
   ],
   "source": [
    "# Propagated signal = time-convolution between source and impulse response = multiplication in the frequency domain\n",
    "source_f=fft(source, N_ok)\n",
    "ir_f=fft(ir_ok,N_ok)\n",
    "s_f=np.transpose(source_f*ir_f)\n",
    "s_ok=ifft(s_f,N_ok, axis=0) #propagated signal\n",
    "\n",
    "# STFT computation\n",
    "NFFT=1024\n",
    "N_window=31 # you need a short window to see the modes\n",
    "b=np.arange(1,N_ok+1)\n",
    "b=b[np.newaxis,:]\n",
    "d=np.hamming(N_window)\n",
    "d=d[:,np.newaxis]\n",
    "tfr=tfrstft(s_ok,b,NFFT,d)\n",
    "source_1=source[:,np.newaxis]\n",
    "tfr_source=tfrstft(source_1,b,NFFT,d)\n",
    "\n",
    "spectro=abs(tfr)**2\n",
    "spectro_source=abs(tfr_source)**2\n",
    "\n",
    "\n",
    "# Time and frequency axis of the original signal\n",
    "time=np.arange(0,N_ok)/fs\n",
    "freq=np.arange(0,NFFT)*fs/NFFT\n",
    "\n",
    "print('The source is a non-linear (parabolic) FM signal')\n",
    "print('The received signal is highly influenced by the source')\n",
    "\n",
    "\n",
    "# Figure\n",
    "\n",
    "plt.figure(figsize=(10,7))\n",
    "plt.subplot(121)\n",
    "plt.imshow(spectro_source, extent=[time[0,0], time[0,-1], freq[0,0], freq[0,-1]],aspect='auto', origin='low')\n",
    "plt.ylim([0, fs/2])\n",
    "plt.xlabel('Time (sec)')\n",
    "plt.ylabel('Frequency (Hz)')\n",
    "plt.title('Source signal')\n",
    "\n",
    "\n",
    "plt.subplot(122)\n",
    "plt.imshow(spectro,extent=[time[0,0], time[0,-1], freq[0,0], freq[0,-1]],aspect='auto', origin='low')\n",
    "plt.ylim([0, fs/2])\n",
    "plt.xlabel('Time (sec)')\n",
    "plt.ylabel('Frequency (Hz)')\n",
    "plt.title('Received signal')\n",
    "plt.show()\n",
    "\n",
    "\n",
    "\n",
    "print('Looking at the received signal, you may think that the source is a linear FM downsweep.')\n",
    "print('Although wrong, this is a good enough approximation for warping')\n",
    "print('Let us illustrate this, continue')\n",
    "print('')\n",
    "\n"
   ]
  },
  {
   "cell_type": "markdown",
   "metadata": {},
   "source": [
    "## 6. Phase compensation"
   ]
  },
  {
   "cell_type": "code",
   "execution_count": 6,
   "metadata": {},
   "outputs": [
    {
     "name": "stdout",
     "output_type": "stream",
     "text": [
      "As an example, the black line may be our best guess of the source signal\n",
      "Now, let us do phase compensation to transform our received signal\n",
      "into something that looks like the impulse response of the waveguide\n"
     ]
    },
    {
     "data": {
      "application/vnd.jupyter.widget-view+json": {
       "model_id": "43b0bd5cc81f42b88872fc374d037549",
       "version_major": 2,
       "version_minor": 0
      },
      "text/plain": [
       "Canvas(toolbar=Toolbar(toolitems=[('Home', 'Reset original view', 'home', 'home'), ('Back', 'Back to previous …"
      ]
     },
     "metadata": {},
     "output_type": "display_data"
    },
    {
     "name": "stdout",
     "output_type": "stream",
     "text": [
      "Continue\n"
     ]
    }
   ],
   "source": [
    "### The guess source will be a linear sweep with following parameters\n",
    "L=130   ### length of the sweep in samples\n",
    "f1=0.5  ### start frequency of the sweep (reduced frequency, i.e. f1=0.5*fs Hz)\n",
    "f2=0.01 ### end frequency of the sweep (reduced frequency, i.e. f2=0.01*fs Hz)\n",
    "\n",
    "source_est, IFLAW_est=fmlin(L,f1,f2) ### estimated source signal in the time domain\n",
    "source_est_f=fft(source_est,N_ok,axis=0) ### estimated source signal in the frequency domain\n",
    "phi=np.angle(source_est_f)                 ### phase of the estimated source signal in the frequency domain\n",
    "\n",
    "\n",
    "### let's plot it on top of the received signal\n",
    "print('As an example, the black line may be our best guess of the source signal')\n",
    "print('Now, let us do phase compensation to transform our received signal')\n",
    "print('into something that looks like the impulse response of the waveguide')\n",
    "\n",
    "# Figure\n",
    "plt.figure(figsize=(7,5))\n",
    "plt.subplot(121)\n",
    "plt.imshow(spectro_source, extent=[time[0,0], time[0,-1], freq[0,0], freq[0,-1]],aspect='auto', origin='low')\n",
    "plt.ylim([0, fs/2])\n",
    "plt.xlabel('Time (sec)')\n",
    "plt.ylabel('Frequency (Hz)')\n",
    "plt.title('Source signal')\n",
    "\n",
    "\n",
    "\n",
    "# Figure\n",
    "plt.subplot(122)\n",
    "plt.imshow(spectro, extent=[time[0,0], time[0,-1], freq[0,0], freq[0,-1]],aspect='auto', origin='low')\n",
    "plt.ylim([0, fs/2])\n",
    "plt.xlabel('Time (sec)')\n",
    "plt.ylabel('Frequency (Hz)')\n",
    "plt.title('Received signal')\n",
    "x1=0\n",
    "x2=(L-1)/fs\n",
    "y1=0.5*fs\n",
    "y2=0.01*fs\n",
    "plt.plot([0, x2[0,0]], [y1[0,0],y2[0,0]], linewidth=3, color='black')\n",
    "plt.show()\n",
    "\n",
    "\n",
    "print('Continue')\n",
    "\n"
   ]
  },
  {
   "cell_type": "markdown",
   "metadata": {},
   "source": [
    "### 6.1 Phase correction"
   ]
  },
  {
   "cell_type": "code",
   "execution_count": 7,
   "metadata": {},
   "outputs": [
    {
     "name": "stdout",
     "output_type": "stream",
     "text": [
      "The result is not too bad, it indeed looks like an impulse response with modes\n",
      "Now let us warp!\n"
     ]
    },
    {
     "data": {
      "application/vnd.jupyter.widget-view+json": {
       "model_id": "b254fb2bca684380b7b019aa070d3e90",
       "version_major": 2,
       "version_minor": 0
      },
      "text/plain": [
       "Canvas(toolbar=Toolbar(toolitems=[('Home', 'Reset original view', 'home', 'home'), ('Back', 'Back to previous …"
      ]
     },
     "metadata": {},
     "output_type": "display_data"
    },
    {
     "name": "stdout",
     "output_type": "stream",
     "text": [
      "Continue\n"
     ]
    }
   ],
   "source": [
    "# Phase correction\n",
    "sig_prop_f=fft(s_ok,axis=0)\n",
    "i=complex(0,1)\n",
    "sig_rec_f=sig_prop_f*np.exp(-i*phi) # note that only source phase is deconvoluted\n",
    "sig_rec_t=ifft(sig_rec_f,axis=0)  #Signal in time domain after source deconvolution\n",
    "\n",
    "\n",
    "# Figure\n",
    "b=np.arange(1,N_ok+1)\n",
    "b=b[np.newaxis,:]\n",
    "d=np.hamming(N_window)\n",
    "d=d[:,np.newaxis]\n",
    "tfr_sig_rec=tfrstft(sig_rec_t,b,NFFT,d)\n",
    "\n",
    "print('The result is not too bad, it indeed looks like an impulse response with modes')\n",
    "print('Now let us warp!')\n",
    "\n",
    "plt.figure()\n",
    "plt.imshow(abs(tfr_sig_rec)**2, extent=[time[0,0], time[0,-1], freq[0,0], freq[0,-1]],aspect='auto', origin='low')\n",
    "plt.ylim([0,fs/2])\n",
    "plt.xlabel('Time (sec)')\n",
    "plt.ylabel('Frequency (Hz)')\n",
    "plt.title('Signal after phase compensation')\n",
    "plt.show()\n",
    "\n",
    "print('Continue')"
   ]
  },
  {
   "cell_type": "markdown",
   "metadata": {},
   "source": [
    "## 7. Warping"
   ]
  },
  {
   "cell_type": "code",
   "execution_count": 8,
   "metadata": {},
   "outputs": [
    {
     "name": "stdout",
     "output_type": "stream",
     "text": [
      "Continue filtering\n"
     ]
    }
   ],
   "source": [
    "# The warped signal will be s_w\n",
    "\n",
    "s_w, fs_w=warp_temp_exa(np.transpose(sig_rec_t),fs,r,c1)\n",
    "M=len(s_w)\n",
    "\n",
    "# STFT computation\n",
    "N_window_w=301 # You need a long window to see the warped modes\n",
    "wind=np.hamming(N_window_w)/np.linalg.norm(np.hamming(N_window_w))\n",
    "wind=wind[:,np.newaxis]\n",
    "b=np.arange(1,M+1)\n",
    "b=b[np.newaxis,:]\n",
    "tfr_w=tfrstft(s_w,b,NFFT,wind)\n",
    "spectro_w=abs(tfr_w)**2\n",
    "\n",
    "# Time and frequency axis of the warped signal      \n",
    "time_w=np.arange(0,M)/fs_w\n",
    "freq_w=np.arange(0,NFFT)*fs_w/NFFT # this is actually not exact, but precise enough for a rough example\n",
    "print('Continue filtering')"
   ]
  },
  {
   "cell_type": "markdown",
   "metadata": {},
   "source": [
    "## 8. Filtering"
   ]
  },
  {
   "cell_type": "code",
   "execution_count": 9,
   "metadata": {},
   "outputs": [
    {
     "name": "stdout",
     "output_type": "stream",
     "text": [
      "Not too bad huh?\n",
      "Now click on the spectrogram to create the mask to filter one mode\n",
      "To do so, click twice on the spectrogram to create a line and continue to define the region you want to filter \n",
      "(see c_warping_and_filtering.m if necessary)\n",
      " \n"
     ]
    },
    {
     "data": {
      "application/vnd.jupyter.widget-view+json": {
       "model_id": "9132a48438d249f994d4714a6846b365",
       "version_major": 2,
       "version_minor": 0
      },
      "text/plain": [
       "Canvas(toolbar=Toolbar(toolitems=[('Home', 'Reset original view', 'home', 'home'), ('Back', 'Back to previous …"
      ]
     },
     "metadata": {},
     "output_type": "display_data"
    },
    {
     "data": {
      "application/vnd.jupyter.widget-view+json": {
       "model_id": "bbacf8d899de4dd4a865fdd7227ee9f6",
       "version_major": 2,
       "version_minor": 0
      },
      "text/plain": [
       "Button(description='Disconnect mpl', style=ButtonStyle())"
      ]
     },
     "metadata": {},
     "output_type": "display_data"
    },
    {
     "name": "stdout",
     "output_type": "stream",
     "text": [
      "Click disconect mpl and continue to mask the section selected\n"
     ]
    }
   ],
   "source": [
    "## selection the spectro_w part to mask \n",
    "spectro_w_1=spectro_w[0:200,0:648]\n",
    "\n",
    "print('Not too bad huh?')\n",
    "print('Now click on the spectrogram to create the mask to filter one mode')\n",
    "print('To do so, click twice on the spectrogram to create a line and continue to define the region you want to filter ')\n",
    "print('(see c_warping_and_filtering.m if necessary)')\n",
    "print(' ')\n",
    "\n",
    "\n",
    "# Figure\n",
    "\n",
    "#Let use bbox_select\n",
    "\n",
    "interactive(True)\n",
    "section= bbox_select(spectro_w_1)\n",
    "print('Click disconect mpl and continue to mask the section selected')"
   ]
  },
  {
   "cell_type": "code",
   "execution_count": 11,
   "metadata": {},
   "outputs": [
    {
     "name": "stdout",
     "output_type": "stream",
     "text": [
      "Continue to see the result\n"
     ]
    }
   ],
   "source": [
    "# create the mask of section\n",
    "pts=section.selected_points\n",
    "nx, ny = np.shape(spectro_w_1)\n",
    "x, y = np.meshgrid(np.arange(ny), np.arange(nx))\n",
    "x, y = x.flatten(), y.flatten()\n",
    "points = np.vstack((x,y)).T\n",
    "path = Path(pts)\n",
    "grid = path.contains_points(points)\n",
    "mask = grid.reshape((nx,ny))\n",
    "masque_1=np.double(mask)\n",
    "\n",
    "# add the part masked to the total sprectogram array\n",
    "masque_2=np.zeros_like(spectro_w[200:,:])\n",
    "masque_3=np.zeros_like(spectro_w[0:200,648:])\n",
    "masque=np.concatenate((masque_1,masque_3),axis=1)\n",
    "masque=np.concatenate((masque,masque_2),axis=0)\n",
    "\n",
    "# Note that the mask is applied on the STFT (not on the spectrogram)\n",
    "mode_rtf_warp=masque*tfr_w\n",
    "norm=1/NFFT/np.max(wind)\n",
    "mode_temp_warp=np.real(np.sum(mode_rtf_warp,axis=0))*norm\n",
    "mode=iwarp_temp_exa(mode_temp_warp,fs_w,r,c1,fs,N_ok)\n",
    "\n",
    "print('Continue to see the result')"
   ]
  },
  {
   "cell_type": "markdown",
   "metadata": {},
   "source": [
    "## 9. Verification"
   ]
  },
  {
   "cell_type": "code",
   "execution_count": 12,
   "metadata": {},
   "outputs": [
    {
     "name": "stdout",
     "output_type": "stream",
     "text": [
      "The red line is the estimated dispersion curve.\n",
      "You have to restrict it to a frequency band where it is relevant\n",
      "If the result is not satisfying, you must create a new filtering mask\n",
      "Let us assume that the result is ok.\n",
      "Now we need to undo the phase compensation to look at the true filtered mode\n"
     ]
    },
    {
     "data": {
      "application/vnd.jupyter.widget-view+json": {
       "model_id": "567244c5fbcf4abaaf64c6d249ff702f",
       "version_major": 2,
       "version_minor": 0
      },
      "text/plain": [
       "Canvas(toolbar=Toolbar(toolitems=[('Home', 'Reset original view', 'home', 'home'), ('Back', 'Back to previous …"
      ]
     },
     "metadata": {},
     "output_type": "display_data"
    },
    {
     "name": "stdout",
     "output_type": "stream",
     "text": [
      "Continue\n"
     ]
    }
   ],
   "source": [
    "# you can estimate the dispersion curve by computing the\n",
    "# frequency moment of the filtered mode TFR\n",
    "a=hilbert(mode)\n",
    "b=np.arange(1,N_ok+1)\n",
    "b=b[np.newaxis,:]\n",
    "h=np.hamming(N_window)\n",
    "h=h[:,np.newaxis]\n",
    "mode_stft=tfrstft(a,b,NFFT,h)\n",
    "mode_spectro=np.abs(mode_stft)**2\n",
    "tm,D2=momftfr(mode_spectro,0,N_ok,time)\n",
    "\n",
    "print('The red line is the estimated dispersion curve.')\n",
    "print('You have to restrict it to a frequency band where it is relevant')\n",
    "print('If the result is not satisfying, you must create a new filtering mask')\n",
    "print('Let us assume that the result is ok.')\n",
    "print('Now we need to undo the phase compensation to look at the true filtered mode')\n",
    "\n",
    "#Figure\n",
    "plt.figure()\n",
    "plt.imshow(abs(tfr_sig_rec)**2, extent=[time[0,0], time[0,-1], freq[0,0], freq[0,-1]],aspect='auto',origin='low') \n",
    "plt.ylim([0,fs/2])\n",
    "plt.xlim([0,1])\n",
    "plt.xlabel('Time (sec)')\n",
    "plt.ylabel('Frequency (Hz)')\n",
    "plt.title('Signal after phase compensation and estimated dispersion curve')\n",
    "\n",
    "plt.plot(tm[:,0],freq[0,:], linewidth=2, color='r')\n",
    "plt.show()\n",
    "\n",
    "\n",
    "print('Continue')"
   ]
  },
  {
   "cell_type": "markdown",
   "metadata": {},
   "source": [
    "## 10. Let's undo phase compensation"
   ]
  },
  {
   "cell_type": "code",
   "execution_count": 13,
   "metadata": {},
   "outputs": [
    {
     "name": "stdout",
     "output_type": "stream",
     "text": [
      "The left subplot is the spectrogram of the filtered mode\n",
      "The right subplot shows the received signal and the estimated dispersion curve\n",
      "Now, let us compare your result with the true modes\n",
      "\n"
     ]
    },
    {
     "data": {
      "application/vnd.jupyter.widget-view+json": {
       "model_id": "1ca929e165e94c888fbaff79270f316c",
       "version_major": 2,
       "version_minor": 0
      },
      "text/plain": [
       "Canvas(toolbar=Toolbar(toolitems=[('Home', 'Reset original view', 'home', 'home'), ('Back', 'Back to previous …"
      ]
     },
     "metadata": {},
     "output_type": "display_data"
    },
    {
     "name": "stdout",
     "output_type": "stream",
     "text": [
      "Continue\n"
     ]
    }
   ],
   "source": [
    "mode_f=fft(mode,axis=0)\n",
    "i=complex(0,1)\n",
    "mode_rec_f=mode_f*np.exp(i*phi)\n",
    "mode_rec_t=ifft(mode_rec_f,axis=0) ### Mode in time domain after source re-convolution\n",
    "b=np.arange(1,N_ok+1)\n",
    "b=b[np.newaxis,:]\n",
    "d=np.hamming(N_window)\n",
    "d=d[:,np.newaxis]\n",
    "mode_rec_sp=tfrstft(mode_rec_t,b,NFFT,d)\n",
    "mode_rec_sp=abs(mode_rec_sp)\n",
    "\n",
    "\n",
    "### We need to undo the source deconvolution for the dispersion curve too\n",
    "####### first we define the time-frequency law of our estimated source\n",
    "f_source_est=IFLAW_est*fs\n",
    "t_source_est=np.arange(0,len(IFLAW_est))/fs\n",
    "\n",
    "\n",
    "###### we need it on the same frequency axis than the dispersion curves\n",
    "f = interpolate.interp1d(f_source_est[:,0], t_source_est[0,:], bounds_error=False, fill_value=np.nan )\n",
    "t_source_est_ok = f(freq[0,:]) \n",
    "tm_est_with_source=tm[:,0]+t_source_est_ok\n",
    "\n",
    "print('The left subplot is the spectrogram of the filtered mode')\n",
    "print('The right subplot shows the received signal and the estimated dispersion curve')\n",
    "print('Now, let us compare your result with the true modes')\n",
    "print('')\n",
    "\n",
    "plt.figure(figsize=(7,5))\n",
    "plt.subplot(121)\n",
    "plt.imshow(mode_rec_sp, extent=[time[0,0], time[0,-1], freq[0,0], freq[0,-1]],aspect='auto',origin='low') \n",
    "plt.ylim([0, fs/2])\n",
    "plt.xlabel('Time (sec)')\n",
    "plt.ylabel('Frequency (Hz)')\n",
    "plt.title('Filtered mode')\n",
    "\n",
    "plt.subplot(122)\n",
    "#plt.pcolormesh(time[0,:], freq[0,:], spectro)\n",
    "plt.imshow(spectro, extent=[time[0,0], time[0,-1], freq[0,0], freq[0,-1]],aspect='auto',origin='low') \n",
    "plt.ylim([0, fs/2])\n",
    "plt.xlabel('Time (sec)')\n",
    "plt.ylabel('Frequency (Hz)')\n",
    "plt.title('Original signal and estimated dispersion curve')\n",
    "\n",
    "\n",
    "plt.plot(tm_est_with_source,freq[0,:],linewidth=3, color='black')\n",
    "\n",
    "print('Continue')"
   ]
  },
  {
   "cell_type": "markdown",
   "metadata": {},
   "source": [
    "## 11. Verification"
   ]
  },
  {
   "cell_type": "code",
   "execution_count": 14,
   "metadata": {},
   "outputs": [
    {
     "name": "stdout",
     "output_type": "stream",
     "text": [
      "This is the same figure than before, except that\n",
      "the true dispersion curves are now in black.\n",
      "Remember that the estimated dispersion curve is \n",
      "relevant only in the frequency band where it matches\n",
      "the estimated spectrogram.\n",
      " \n"
     ]
    },
    {
     "data": {
      "application/vnd.jupyter.widget-view+json": {
       "model_id": "3958c3c7f0094e27af2ed82d46022c86",
       "version_major": 2,
       "version_minor": 0
      },
      "text/plain": [
       "Canvas(toolbar=Toolbar(toolitems=[('Home', 'Reset original view', 'home', 'home'), ('Back', 'Back to previous …"
      ]
     },
     "metadata": {},
     "output_type": "display_data"
    },
    {
     "name": "stdout",
     "output_type": "stream",
     "text": [
      "END\n"
     ]
    }
   ],
   "source": [
    "data = sio.loadmat(os.getcwd()+ '/sig_pek_and_modes_for_warp.mat')\n",
    "r=data['r']\n",
    "vg=data['vg']\n",
    "c1=data['c1']\n",
    "f_vg=data['f_vg']\n",
    "\n",
    "\n",
    "\n",
    "### we need a few tricks to create the theoretical dispersion curves\n",
    "#### first the dispersion curves of the impulse response\n",
    "\n",
    "tm_theo_ir=r/vg-r/c1 ### range over group_speed minus correction for time origin\n",
    "##### now we need to include the source law ....\n",
    "f_source=IFLAW_source*fs\n",
    "\n",
    "t_source=np.arange(0,len(IFLAW_source))/fs\n",
    "\n",
    "\n",
    "##### but we need it on the same frequency axis than tm_theo_ir\n",
    "f = interpolate.interp1d(f_source[0,:], t_source[0,:], bounds_error=False, fill_value=np.nan )\n",
    "t_source_ok = f(f_vg[0,:]) \n",
    "t_source_ok_1=np.tile(t_source_ok,(5,1))\n",
    "tm_theo_with_source=tm_theo_ir+t_source_ok_1\n",
    "\n",
    "print('This is the same figure than before, except that')\n",
    "print('the true dispersion curves are now in black.')\n",
    "print('Remember that the estimated dispersion curve is ')\n",
    "print('relevant only in the frequency band where it matches')\n",
    "print('the estimated spectrogram.')\n",
    "print(' ')\n",
    "\n",
    "plt.figure()\n",
    "#plt.pcolormesh(time[0,:], freq[0,:], spectro)\n",
    "plt.imshow(spectro, extent=[time[0,0], time[0,-1], freq[0,0], freq[0,-1]],aspect='auto',origin='low') \n",
    "plt.ylim([0,fs/2])\n",
    "plt.xlim([0,1.2])\n",
    "plt.xlabel('Time (sec)')\n",
    "plt.ylabel('Frequency (Hz)')\n",
    "plt.title('Original signal and estimated dispersion curve')\n",
    "plt.plot(tm_theo_with_source[0,:], f_vg[0,:], 'black')\n",
    "plt.plot(tm_theo_with_source[1,:], f_vg[0,:], 'black')\n",
    "plt.plot(tm_theo_with_source[2,:], f_vg[0,:], 'black')\n",
    "plt.plot(tm_theo_with_source[3,:], f_vg[0,:], 'black')\n",
    "plt.plot(tm_est_with_source,freq[0,:], linewidth=3, color='r')\n",
    "plt.show()\n",
    "\n",
    "\n",
    "print('END')"
   ]
  }
 ],
 "metadata": {
  "kernelspec": {
   "display_name": "Python 3",
   "language": "python",
   "name": "python3"
  },
  "language_info": {
   "codemirror_mode": {
    "name": "ipython",
    "version": 3
   },
   "file_extension": ".py",
   "mimetype": "text/x-python",
   "name": "python",
   "nbconvert_exporter": "python",
   "pygments_lexer": "ipython3",
   "version": "3.7.2"
  }
 },
 "nbformat": 4,
 "nbformat_minor": 4
}

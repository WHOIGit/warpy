{
 "cells": [
  {
   "cell_type": "markdown",
   "metadata": {},
   "source": [
    "# Warping tutorial\n",
    "## g_filtering_multiples_modes_for_loc\n",
    "\n",
    "##### May 2020\n",
    "###### Eva Chamorro - Daniel Zitterbart - Julien Bonnel"
   ]
  },
  {
   "cell_type": "markdown",
   "metadata": {},
   "source": [
    "## 1. Import packages"
   ]
  },
  {
   "cell_type": "code",
   "execution_count": 2,
   "metadata": {},
   "outputs": [],
   "source": [
    "import os\n",
    "import matplotlib\n",
    "import numpy as np\n",
    "import scipy.io as sio\n",
    "import matplotlib.pyplot as plt\n",
    "%matplotlib widget\n",
    "from matplotlib import interactive\n",
    "from matplotlib.path import Path\n",
    "from scipy import interpolate\n",
    "from scipy.fftpack import fft, ifft\n",
    "from scipy.signal import hilbert\n",
    "from ipywidgets import interact, interact_manual\n",
    "from warping_functions import *\n",
    "from time_frequency_analysis_functions import *\n",
    "from bbox_select import *\n",
    "from pts_select import *"
   ]
  },
  {
   "cell_type": "markdown",
   "metadata": {},
   "source": [
    "## 2. Load simulated signal"
   ]
  },
  {
   "cell_type": "code",
   "execution_count": 3,
   "metadata": {},
   "outputs": [],
   "source": [
    "data = sio.loadmat(os.getcwd()+ '/sig_pek_for_warp.mat')\n",
    "\n",
    "\n",
    "'''\n",
    "    s_t: propagated modes in a Pekeris waveguide with parameters\n",
    "    c1, c2, rho1, rho2: sound speed / density\n",
    "        D: depth\n",
    "        r: range\n",
    "        zs, zr: source/receiver depth\n",
    "    s_t_dec: same than s_t, except that time origin has been set for warping\n",
    "    fs: sampling frequency\n",
    "    \n",
    "   \n",
    "     NB: one can run optional_create_simulated_signal.m to generate another\n",
    "     simulated signal\n",
    "'''\n",
    "\n",
    "# Select variables\n",
    "s_t=data['s_t']\n",
    "fs=data['fs']\n",
    "s_t_dec=data['s_t_dec']\n",
    "r=data['r']\n",
    "c1=data['c1']\n",
    "c2=data['c2']\n",
    "D=data['D']\n",
    "rho1=data['rho1']\n",
    "rho2=data['rho2']"
   ]
  },
  {
   "cell_type": "markdown",
   "metadata": {},
   "source": [
    "## 2. Process signal"
   ]
  },
  {
   "cell_type": "code",
   "execution_count": 4,
   "metadata": {},
   "outputs": [],
   "source": [
    "# The first sample of s_t_dec corresponds to time r/c1\n",
    "\n",
    "# Make the signal shorter, no need to keep samples with zeros\n",
    "N_ok=150\n",
    "s_ok=s_t_dec[:,0:N_ok] ### this is the impulse response of the waveguide\n",
    "\n",
    "#Corresponding time and frequency axis\n",
    "time=np.arange(0,N_ok)/fs\n",
    "\n",
    "# The warped signal will be s_w\n",
    "[s_w, fs_w]=warp_temp_exa(s_ok,fs,r,c1)\n",
    "M=len(s_w)"
   ]
  },
  {
   "cell_type": "markdown",
   "metadata": {},
   "source": [
    "## 3. Time frequency representations"
   ]
  },
  {
   "cell_type": "markdown",
   "metadata": {},
   "source": [
    "### 3.1 Original signal"
   ]
  },
  {
   "cell_type": "code",
   "execution_count": 5,
   "metadata": {},
   "outputs": [
    {
     "name": "stdout",
     "output_type": "stream",
     "text": [
      "This is the spectrogram of the received signal\n",
      "We will now warp it\n"
     ]
    },
    {
     "data": {
      "application/vnd.jupyter.widget-view+json": {
       "model_id": "cb2042010d384df39d15843f8d6dbed9",
       "version_major": 2,
       "version_minor": 0
      },
      "text/plain": [
       "Canvas(toolbar=Toolbar(toolitems=[('Home', 'Reset original view', 'home', 'home'), ('Back', 'Back to previous …"
      ]
     },
     "metadata": {},
     "output_type": "display_data"
    },
    {
     "name": "stdout",
     "output_type": "stream",
     "text": [
      "Continue to warp it\n"
     ]
    }
   ],
   "source": [
    "# STFT computation\n",
    "\n",
    "NFFT=1024\n",
    "N_window=31 # you need a short window to see the modes\n",
    "b=np.arange(1,N_ok+1)\n",
    "b=b[np.newaxis,:]\n",
    "h=np.hamming(N_window)\n",
    "h=h[:,np.newaxis]\n",
    "\n",
    "tfr=tfrstft(s_ok,b,NFFT,h)\n",
    "spectro=abs(tfr)**2\n",
    "\n",
    "#Figure\n",
    "freq=np.arange(0,NFFT)*fs/NFFT\n",
    "\n",
    "print('This is the spectrogram of the received signal')\n",
    "print('We will now warp it')\n",
    "\n",
    "plt.figure(figsize=(15.0,5.0))\n",
    "plt.subplot(121)\n",
    "plt.imshow(spectro, extent=[time[0,0], time[0,-1], freq[0,0], freq[0,-1]],aspect='auto', origin='low')\n",
    "plt.ylim([0, fs/2])\n",
    "plt.xlim([0,0.5])  ### Adjust this to see better\n",
    "plt.xlabel('Time (sec)')\n",
    "plt.ylabel('Frequency (Hz)')\n",
    "plt.title('Source signal')\n",
    "plt.show()\n",
    "\n",
    "\n",
    "print('Continue to warp it')\n"
   ]
  },
  {
   "cell_type": "markdown",
   "metadata": {},
   "source": [
    "### 3.2 Warped signal"
   ]
  },
  {
   "cell_type": "code",
   "execution_count": 9,
   "metadata": {},
   "outputs": [
    {
     "data": {
      "application/vnd.jupyter.widget-view+json": {
       "model_id": "f41771f246b24efaa319510bcffedd1b",
       "version_major": 2,
       "version_minor": 0
      },
      "text/plain": [
       "Canvas(toolbar=Toolbar(toolitems=[('Home', 'Reset original view', 'home', 'home'), ('Back', 'Back to previous …"
      ]
     },
     "metadata": {},
     "output_type": "display_data"
    },
    {
     "name": "stdout",
     "output_type": "stream",
     "text": [
      "Continue \n"
     ]
    }
   ],
   "source": [
    "# STFT computation\n",
    "N_window_w=301  # You need a long window to see the warped modes\n",
    "wind=np.hamming(N_window_w)\n",
    "wind=wind/np.linalg.norm(wind)\n",
    "wind=wind[:,np.newaxis]\n",
    "b=np.arange(1,M+1)\n",
    "b=b[np.newaxis,:]\n",
    "tfr_w=tfrstft(s_w,b,NFFT,wind)\n",
    "spectro_w=abs(tfr_w)**2\n",
    "\n",
    "# Time and frequency axis of the warped signal\n",
    "time_w=np.arange(0,(M)/fs_w, 1/fs_w)\n",
    "freq_w=np.arange(0,fs_w-fs_w/NFFT+fs_w/NFFT,fs_w/NFFT)\n",
    "    \n",
    "#Figure\n",
    "plt.figure()\n",
    "plt.imshow(spectro_w, extent=[time_w[0], time_w[-1], freq_w[0], freq_w[-1]] ,aspect='auto', origin='low')\n",
    "plt.ylim([0,40]) ### Adjust this to see better\n",
    "plt.xlabel('Warped time (sec)')\n",
    "plt.ylabel('Corresponding warped frequency (Hz)')\n",
    "plt.title('Warped signal')\n",
    "plt.show()\n",
    " \n",
    "print('Continue ')"
   ]
  },
  {
   "cell_type": "markdown",
   "metadata": {},
   "source": [
    "## 4. Filtering"
   ]
  },
  {
   "cell_type": "code",
   "execution_count": 10,
   "metadata": {},
   "outputs": [
    {
     "name": "stdout",
     "output_type": "stream",
     "text": [
      "Now try to filter the 4 modes\n",
      "Create the four masks sequentially, starting with mode 1, then 2, etc.\n",
      "To do so, click twice n the spectrogram to create a line and continue to define the region you want to filter \n",
      "(if needed, go back to c_warping_and_filtering.m for mask creation)\n",
      "Contine to filter mode 1\n"
     ]
    }
   ],
   "source": [
    "# To make it easier, filtering will be done by hand using bbox_select.\n",
    "# See bbox_selec.py for more information\n",
    "\n",
    "spectro_w_1=spectro_w[0:200,:]\n",
    "Nmode=4\n",
    "modes=np.zeros((N_ok,Nmode))\n",
    "tm=np.zeros((NFFT,Nmode))\n",
    "\n",
    "print('Now try to filter the 4 modes')\n",
    "print('Create the four masks sequentially, starting with mode 1, then 2, etc.')\n",
    "print('To do so, click twice n the spectrogram to create a line and continue to define the region you want to filter ')\n",
    "print('(if needed, go back to c_warping_and_filtering.m for mask creation)')\n",
    "print('Contine to filter mode 1')"
   ]
  },
  {
   "cell_type": "markdown",
   "metadata": {},
   "source": [
    "#### Filter mode 1"
   ]
  },
  {
   "cell_type": "code",
   "execution_count": 11,
   "metadata": {},
   "outputs": [
    {
     "name": "stdout",
     "output_type": "stream",
     "text": [
      "Filter mode 1\n"
     ]
    },
    {
     "data": {
      "application/vnd.jupyter.widget-view+json": {
       "model_id": "9415b211ee8441e3b36167d1f6dcc9f8",
       "version_major": 2,
       "version_minor": 0
      },
      "text/plain": [
       "Canvas(toolbar=Toolbar(toolitems=[('Home', 'Reset original view', 'home', 'home'), ('Back', 'Back to previous …"
      ]
     },
     "metadata": {},
     "output_type": "display_data"
    },
    {
     "data": {
      "application/vnd.jupyter.widget-view+json": {
       "model_id": "cbc1df3bbafa43459d54b31efda787b1",
       "version_major": 2,
       "version_minor": 0
      },
      "text/plain": [
       "Button(description='Disconnect mpl', style=ButtonStyle())"
      ]
     },
     "metadata": {},
     "output_type": "display_data"
    },
    {
     "name": "stdout",
     "output_type": "stream",
     "text": [
      "When you have finish,click \"disconnect mpl\" and continue to filter mode 2\n"
     ]
    }
   ],
   "source": [
    "# Let filter a mode 1\n",
    "print('Filter mode 1')\n",
    "interactive(True)\n",
    "section=bbox_select(spectro_w_1)\n",
    "print('When you have finish,click \"disconnect mpl\" and continue to filter mode 2') "
   ]
  },
  {
   "cell_type": "markdown",
   "metadata": {},
   "source": [
    "#### Filter mode 2"
   ]
  },
  {
   "cell_type": "code",
   "execution_count": 12,
   "metadata": {},
   "outputs": [
    {
     "name": "stdout",
     "output_type": "stream",
     "text": [
      "Filter mode 2\n"
     ]
    },
    {
     "data": {
      "application/vnd.jupyter.widget-view+json": {
       "model_id": "e82213ba0911449881ac97afb95eb0c5",
       "version_major": 2,
       "version_minor": 0
      },
      "text/plain": [
       "Canvas(toolbar=Toolbar(toolitems=[('Home', 'Reset original view', 'home', 'home'), ('Back', 'Back to previous …"
      ]
     },
     "metadata": {},
     "output_type": "display_data"
    },
    {
     "data": {
      "application/vnd.jupyter.widget-view+json": {
       "model_id": "752fb24f2d824e7aa9f964e4735b7d26",
       "version_major": 2,
       "version_minor": 0
      },
      "text/plain": [
       "Button(description='Disconnect mpl', style=ButtonStyle())"
      ]
     },
     "metadata": {},
     "output_type": "display_data"
    },
    {
     "name": "stdout",
     "output_type": "stream",
     "text": [
      "When you have finish,click \"disconnect mpl\" and continue to filter mode 3\n"
     ]
    }
   ],
   "source": [
    "# create the mask of the section\n",
    "pts=section.selected_points\n",
    "nx, ny = np.shape(spectro_w_1)\n",
    "x, y = np.meshgrid(np.arange(ny), np.arange(nx))\n",
    "x, y = x.flatten(), y.flatten()\n",
    "points = np.vstack((x,y)).T\n",
    "path = Path(pts)\n",
    "grid = path.contains_points(points)\n",
    "mask = grid.reshape((nx,ny))\n",
    "\n",
    "masque_1=np.double(mask)\n",
    "\n",
    "# add the part masked to the total sprectogram array\n",
    "masque_0=np.zeros_like(spectro_w[200:,:])\n",
    "masque=np.concatenate((masque_1,masque_0),axis=0)\n",
    "\n",
    "\n",
    "mode_rtf_warp=masque*tfr_w\n",
    "norm=1/NFFT/np.max(wind)\n",
    "mode_temp_warp=np.real(np.sum(mode_rtf_warp,axis=0))*norm*2\n",
    "mode=iwarp_temp_exa(mode_temp_warp,fs_w,r,c1,fs,N_ok)\n",
    "modes[:,0]=mode[:,0]\n",
    "\n",
    "## Verification\n",
    "\n",
    "a=hilbert(mode)\n",
    "b=np.arange(1,N_ok+1)\n",
    "b=b[np.newaxis,:]\n",
    "h=np.hamming(N_window)\n",
    "h=h[:,np.newaxis]\n",
    "mode_stft=tfrstft(a,b,NFFT,h)\n",
    "mode_spectro=abs(mode_stft)**2\n",
    "tm_1,D2=momftfr(mode_spectro,0,N_ok,time)\n",
    "tm[:,0]=tm_1[:,0]\n",
    "\n",
    "## Mode 2\n",
    "print('Filter mode 2')\n",
    "interactive(True)\n",
    "section_2=bbox_select(spectro_w_1)\n",
    "print('When you have finish,click \"disconnect mpl\" and continue to filter mode 3') "
   ]
  },
  {
   "cell_type": "markdown",
   "metadata": {},
   "source": [
    "#### Filter mode 3"
   ]
  },
  {
   "cell_type": "code",
   "execution_count": 13,
   "metadata": {},
   "outputs": [
    {
     "name": "stdout",
     "output_type": "stream",
     "text": [
      "Filter mode 3\n"
     ]
    },
    {
     "data": {
      "application/vnd.jupyter.widget-view+json": {
       "model_id": "9574fe0acffd46c789be32c94fa96f3a",
       "version_major": 2,
       "version_minor": 0
      },
      "text/plain": [
       "Canvas(toolbar=Toolbar(toolitems=[('Home', 'Reset original view', 'home', 'home'), ('Back', 'Back to previous …"
      ]
     },
     "metadata": {},
     "output_type": "display_data"
    },
    {
     "data": {
      "application/vnd.jupyter.widget-view+json": {
       "model_id": "b8553b2692eb4991acfd0216c1d6743e",
       "version_major": 2,
       "version_minor": 0
      },
      "text/plain": [
       "Button(description='Disconnect mpl', style=ButtonStyle())"
      ]
     },
     "metadata": {},
     "output_type": "display_data"
    },
    {
     "name": "stdout",
     "output_type": "stream",
     "text": [
      "When you have finish,click \"disconnect mpl\" and continue to filter mode 4\n"
     ]
    }
   ],
   "source": [
    "# create the mask of the section\n",
    "pts=section_2.selected_points\n",
    "nx, ny = np.shape(spectro_w_1)\n",
    "x, y = np.meshgrid(np.arange(ny), np.arange(nx))\n",
    "x, y = x.flatten(), y.flatten()\n",
    "points = np.vstack((x,y)).T\n",
    "path = Path(pts)\n",
    "grid = path.contains_points(points)\n",
    "mask = grid.reshape((nx,ny))\n",
    "\n",
    "masque_2=np.double(mask)\n",
    "\n",
    "# add the part masked to the total sprectogram array\n",
    "masque_2=np.concatenate((masque_2,masque_0),axis=0)\n",
    "\n",
    "\n",
    "mode_rtf_warp_2=masque_2*tfr_w\n",
    "mode_temp_warp_2=np.real(np.sum(mode_rtf_warp_2,axis=0))*norm*2\n",
    "mode_2=iwarp_temp_exa(mode_temp_warp_2,fs_w,r,c1,fs,N_ok)\n",
    "modes[:,1]=mode_2[:,0]\n",
    "\n",
    "## Verification\n",
    "a_2=hilbert(mode_2)\n",
    "mode_stft_2=tfrstft(a_2,b,NFFT,h)\n",
    "mode_spectro_2=abs(mode_stft_2)**2\n",
    "tm_2,D2_2=momftfr(mode_spectro_2,0,N_ok,time)\n",
    "tm[:,1]=tm_2[:,0]\n",
    "\n",
    "## Mode 3\n",
    "print('Filter mode 3')\n",
    "interactive(True)\n",
    "section_3=bbox_select(spectro_w_1)\n",
    "print('When you have finish,click \"disconnect mpl\" and continue to filter mode 4') "
   ]
  },
  {
   "cell_type": "markdown",
   "metadata": {},
   "source": [
    "#### Filter mode 4"
   ]
  },
  {
   "cell_type": "code",
   "execution_count": 14,
   "metadata": {},
   "outputs": [
    {
     "name": "stdout",
     "output_type": "stream",
     "text": [
      "Filter mode 4\n"
     ]
    },
    {
     "data": {
      "application/vnd.jupyter.widget-view+json": {
       "model_id": "8d270e16e6054eeaa771340753a66b17",
       "version_major": 2,
       "version_minor": 0
      },
      "text/plain": [
       "Canvas(toolbar=Toolbar(toolitems=[('Home', 'Reset original view', 'home', 'home'), ('Back', 'Back to previous …"
      ]
     },
     "metadata": {},
     "output_type": "display_data"
    },
    {
     "data": {
      "application/vnd.jupyter.widget-view+json": {
       "model_id": "810f2d4a223c46fd8e1102a0678d9e74",
       "version_major": 2,
       "version_minor": 0
      },
      "text/plain": [
       "Button(description='Disconnect mpl', style=ButtonStyle())"
      ]
     },
     "metadata": {},
     "output_type": "display_data"
    },
    {
     "name": "stdout",
     "output_type": "stream",
     "text": [
      "When you have finish,click \"disconnect mpl\" and continue\n"
     ]
    }
   ],
   "source": [
    "# create the mask of the section\n",
    "pts=section_3.selected_points\n",
    "nx, ny = np.shape(spectro_w_1)\n",
    "x, y = np.meshgrid(np.arange(ny), np.arange(nx))\n",
    "x, y = x.flatten(), y.flatten()\n",
    "points = np.vstack((x,y)).T\n",
    "path = Path(pts)\n",
    "grid = path.contains_points(points)\n",
    "mask = grid.reshape((nx,ny))\n",
    "\n",
    "masque_3=np.double(mask)\n",
    "\n",
    "# add the part masked to the total sprectogram array\n",
    "masque_3=np.concatenate((masque_3,masque_0),axis=0)\n",
    "\n",
    "\n",
    "mode_rtf_warp_3=masque_3*tfr_w\n",
    "mode_temp_warp_3=np.real(np.sum(mode_rtf_warp_3,axis=0))*norm*2\n",
    "mode_3=iwarp_temp_exa(mode_temp_warp_3,fs_w,r,c1,fs,N_ok)\n",
    "modes[:,2]=mode_3[:,0]\n",
    "\n",
    "## Verification\n",
    "\n",
    "a_3=hilbert(mode_3)\n",
    "mode_stft_3=tfrstft(a_3,b,NFFT,h)\n",
    "mode_spectro_3=abs(mode_stft_3)**2\n",
    "tm_3,D2_3=momftfr(mode_spectro_3,0,N_ok,time)\n",
    "tm[:,2]=tm_3[:,0]\n",
    "\n",
    "## Mode 4\n",
    "print('Filter mode 4')\n",
    "interactive(True)\n",
    "section_4=bbox_select(spectro_w_1)\n",
    "print('When you have finish,click \"disconnect mpl\" and continue') "
   ]
  },
  {
   "cell_type": "code",
   "execution_count": 16,
   "metadata": {},
   "outputs": [
    {
     "name": "stdout",
     "output_type": "stream",
     "text": [
      "End of filtering\n",
      "Continue\n"
     ]
    }
   ],
   "source": [
    "# create the mask of the section\n",
    "pts=section_4.selected_points\n",
    "nx, ny = np.shape(spectro_w_1)\n",
    "x, y = np.meshgrid(np.arange(ny), np.arange(nx))\n",
    "x, y = x.flatten(), y.flatten()\n",
    "points = np.vstack((x,y)).T\n",
    "path = Path(pts)\n",
    "grid = path.contains_points(points)\n",
    "mask = grid.reshape((nx,ny))\n",
    "masque_4=np.double(mask)\n",
    "\n",
    "# add the part masked to the total sprectogram array\n",
    "masque_4=np.concatenate((masque_4,masque_0),axis=0)\n",
    "\n",
    "\n",
    "mode_rtf_warp_4=masque_4*tfr_w\n",
    "mode_temp_warp_4=np.real(np.sum(mode_rtf_warp_4,axis=0))*norm*2\n",
    "mode_4=iwarp_temp_exa(mode_temp_warp_4,fs_w,r,c1,fs,N_ok)\n",
    "modes[:,3]=mode_4[:,0]\n",
    "\n",
    "## Verification\n",
    "\n",
    "a_4=hilbert(mode_4)\n",
    "mode_stft_4=tfrstft(a_4,b,NFFT,h)\n",
    "mode_spectro_4=abs(mode_stft_4)**2\n",
    "tm_4,D2=momftfr(mode_spectro_4,0,N_ok,time)\n",
    "tm[:,3]=tm_4[:,0]\n",
    "\n",
    "print('End of filtering')\n",
    "print('Continue')"
   ]
  },
  {
   "cell_type": "markdown",
   "metadata": {},
   "source": [
    "## 5. Verification"
   ]
  },
  {
   "cell_type": "code",
   "execution_count": 17,
   "metadata": {},
   "outputs": [
    {
     "name": "stdout",
     "output_type": "stream",
     "text": [
      "The red lines are the estimated dispersion curves.\n",
      "Now let us restrict them to a frequency band where they are ok\n",
      "You will have to enter the min/max frequency for each dispersion curves\n",
      "(for every mode, choose the widest frequency band over which the dispersion curve estimation looks correct)\n"
     ]
    },
    {
     "data": {
      "application/vnd.jupyter.widget-view+json": {
       "model_id": "0292edb24df441dbbe691134085d8286",
       "version_major": 2,
       "version_minor": 0
      },
      "text/plain": [
       "Canvas(toolbar=Toolbar(toolitems=[('Home', 'Reset original view', 'home', 'home'), ('Back', 'Back to previous …"
      ]
     },
     "metadata": {},
     "output_type": "display_data"
    },
    {
     "name": "stdout",
     "output_type": "stream",
     "text": [
      "Continue to select the frequency band\n"
     ]
    }
   ],
   "source": [
    "print('The red lines are the estimated dispersion curves.')\n",
    "print('Now let us restrict them to a frequency band where they are ok')\n",
    "print('You will have to enter the min/max frequency for each dispersion curves')\n",
    "print('(for every mode, choose the widest frequency band over which the dispersion curve estimation looks correct)')\n",
    "\n",
    "\n",
    "plt.figure()\n",
    "plt.imshow(spectro, extent=[time[0,0], time[0,-1], freq[0,0], freq[0,-1]],aspect='auto',origin='low')\n",
    "plt.ylim([0,fs/2])\n",
    "plt.xlabel('Time (sec)')\n",
    "plt.ylabel('Frequency (Hz)')\n",
    "plt.title('Spectrogram and estimated dispersion curves')\n",
    "plt.plot(tm[:,0],freq[0, :],'r')\n",
    "plt.plot(tm[:,1],freq[0, :],'r')\n",
    "plt.plot(tm[:,2],freq[0, :],'r')\n",
    "plt.plot(tm[:,3],freq[0, :],'r')\n",
    "\n",
    "print('Continue to select the frequency band')\n",
    "\n"
   ]
  },
  {
   "cell_type": "markdown",
   "metadata": {},
   "source": [
    "## 6. Restrict to frequency band of interest"
   ]
  },
  {
   "cell_type": "code",
   "execution_count": 18,
   "metadata": {},
   "outputs": [
    {
     "name": "stdin",
     "output_type": "stream",
     "text": [
      "Enter min freq for mode 1:   10\n",
      "Enter max freq for mode 1:   90\n",
      "Enter min freq for mode 2:   20\n",
      "Enter max freq for mode 2:   90\n",
      "Enter min freq for mode 3:   10\n",
      "Enter max freq for mode 3:   90\n",
      "Enter min freq for mode 4:   40\n",
      "Enter max freq for mode 4:   90\n"
     ]
    },
    {
     "name": "stdout",
     "output_type": "stream",
     "text": [
      "This is the spectrogram with your best guess of the dispersion curves.\n"
     ]
    },
    {
     "data": {
      "application/vnd.jupyter.widget-view+json": {
       "model_id": "f9dd8f14f6f34e3099f5d80bbad64406",
       "version_major": 2,
       "version_minor": 0
      },
      "text/plain": [
       "Canvas(toolbar=Toolbar(toolitems=[('Home', 'Reset original view', 'home', 'home'), ('Back', 'Back to previous …"
      ]
     },
     "metadata": {},
     "output_type": "display_data"
    },
    {
     "name": "stdout",
     "output_type": "stream",
     "text": [
      "Your result is saved. If you are happy with it, \n",
      "Proceed to the next code for source localization.\n",
      " \n",
      "END\n"
     ]
    }
   ],
   "source": [
    "fmin=np.zeros(Nmode)\n",
    "fmax=np.zeros(Nmode)\n",
    "for i in range (Nmode):\n",
    "    fmin[i]= int(input('Enter min freq for mode '+str(i+1)+':  '))\n",
    "    fmax[i]= int(input('Enter max freq for mode '+str(i+1)+':  '))\n",
    "\n",
    "\n",
    "tm_ok=tm\n",
    "freq_sel=freq[0,:]\n",
    "\n",
    "for i in range(Nmode):\n",
    "    pos=np.where((freq_sel > fmin[i]) & (freq_sel < fmax[i]))\n",
    "    poss=np.array(pos,dtype='int')\n",
    "    tm_ok[0:poss[0,0],i]=np.nan\n",
    "    tm_ok[poss[0,-1]:,i]=np.nan\n",
    "\n",
    "    \n",
    "print('This is the spectrogram with your best guess of the dispersion curves.')\n",
    "plt.figure()\n",
    "plt.imshow(spectro, extent=[time[0,0], time[0,-1], freq[0,0], freq[0,-1]],aspect='auto',origin='low')\n",
    "plt.ylim([0, fs/2])\n",
    "plt.xlabel('Time (sec)')\n",
    "plt.ylabel('Frequency (Hz)')\n",
    "plt.title('Spectrogram and estimated dispersion curves')\n",
    "plt.plot(tm_ok[:,0],freq[0, :],'r')\n",
    "plt.plot(tm_ok[:,1],freq[0, :],'r')\n",
    "plt.plot(tm_ok[:,2],freq[0, :],'r')\n",
    "plt.plot(tm_ok[:,3],freq[0, :],'r')\n",
    "plt.show()\n",
    "\n",
    "\n",
    "r_true=r\n",
    "c1_true=c1\n",
    "c2_true=c2\n",
    "rho1_true=rho1\n",
    "rho2_true=rho2\n",
    "D_true=D\n",
    "\n",
    "### let's introduce a small random time shift, as if source and receiver\n",
    "### were not synchronized\n",
    "\n",
    "dt_true=np.random.rand(1)*0.06-0.03\n",
    "tm_for_inv=tm_ok+dt_true\n",
    "\n",
    "### let's save the tm_for_inv on a relevant frequency axis\n",
    "\n",
    "fmin_data=min(fmin)\n",
    "fmax_data=max(fmax)\n",
    "df_data=2\n",
    "freq_data=np.arange(fmin_data,fmax_data+df_data,df_data)\n",
    "Nf_data=len(freq_data)\n",
    "\n",
    "data=np.zeros((Nf_data, Nmode))\n",
    "\n",
    "for i in range (Nmode):\n",
    "    f = interpolate.interp1d(freq[0,:], tm_for_inv[:,i], bounds_error=False, fill_value=np.nan )\n",
    "    data[:,i] = f(freq_data)\n",
    "    \n",
    "sio.savemat('save.mat',{'r_true': r_true, 'c1_true': c1_true,'c2_true':c2_true,'rho1_true':rho1_true,\n",
    "                        'rho2_true':rho2_true,'D_true':D_true,'freq_data':freq_data,'data':data,'dt_true':dt_true })\n",
    "\n",
    "\n",
    "\n",
    "print('Your result is saved. If you are happy with it, ')\n",
    "print('Proceed to the next code for source localization.')\n",
    "print(' ')\n",
    "print('END')\n"
   ]
  }
 ],
 "metadata": {
  "kernelspec": {
   "display_name": "Python 3",
   "language": "python",
   "name": "python3"
  },
  "language_info": {
   "codemirror_mode": {
    "name": "ipython",
    "version": 3
   },
   "file_extension": ".py",
   "mimetype": "text/x-python",
   "name": "python",
   "nbconvert_exporter": "python",
   "pygments_lexer": "ipython3",
   "version": "3.7.7"
  }
 },
 "nbformat": 4,
 "nbformat_minor": 4
}

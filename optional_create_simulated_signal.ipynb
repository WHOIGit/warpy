{
 "cells": [
  {
   "cell_type": "markdown",
   "metadata": {},
   "source": [
    "## Warping tutorial\n",
    "#### optional_create_simulated_signal\n",
    "##### April 2020\n",
    "###### Eva Chamorro - Daniel Zitterbart - Julien Bonnel"
   ]
  },
  {
   "cell_type": "markdown",
   "metadata": {},
   "source": [
    "## 1. Import packages"
   ]
  },
  {
   "cell_type": "code",
   "execution_count": 1,
   "metadata": {},
   "outputs": [],
   "source": [
    "import os as os\n",
    "import numpy as np\n",
    "import matplotlib.pyplot as plt\n",
    "import scipy.io as sio\n",
    "from scipy.fftpack import fft, ifft,irfft\n",
    "from time_frequency_analysis_functions import *\n",
    "from pekeris import *\n",
    "from hamilton import *\n",
    "import warnings\n",
    "warnings.filterwarnings('ignore')"
   ]
  },
  {
   "cell_type": "markdown",
   "metadata": {},
   "source": [
    "## 2. Environment"
   ]
  },
  {
   "cell_type": "code",
   "execution_count": 2,
   "metadata": {},
   "outputs": [
    {
     "name": "stdout",
     "output_type": "stream",
     "text": [
      "Continue\n"
     ]
    }
   ],
   "source": [
    "# Waveguide parameters\n",
    "rho1=1000   ### density in water (kg/m^3)\n",
    "rho2=1500   ### density in seabed (kg/m^3)\n",
    "c1=1500     ###  sound speed in water (m/s)\n",
    "c2=1600     ### sound speed in seabed (m/s)\n",
    "D=100       ### water depth (m)\n",
    "\n",
    "r=10000  ### source/receiver range\n",
    "\n",
    "fmax=100   ### max frequency for simulation\n",
    "fs=2*fmax  ### sampling frequency is twice fmax\n",
    "df=0.1 \n",
    "nfft=fs/df   ### make sure that nfft is an integer by choosing appropriate df\n",
    "\n",
    "if nfft!=np.floor(nfft):\n",
    "    raise ValueError('make sure that nfft is an integer by choosing an appropriate df') \n",
    "    \n",
    "    \n",
    "freq_env=np.arange(0,fmax+df,df)      ### freq axis to simulate propagation\n",
    "freq_sig=np.arange(0,nfft)*df   ### freq axis for simulated signal, obtained after Fourier synthesis\n",
    "\n",
    "\n",
    "### Compute wavenumbers and normalization coefficients\n",
    "[kr, kz, A2]=pek_init(rho1, rho2, c1, c2, D, freq_env)\n",
    "\n",
    "\n",
    "#### Compute Green's function\n",
    "zs=D # source depth (m) - single source only (only one value)\n",
    "zr=np.arange(0,D+1) # receiver depths (m) - can be a vertical array (vector)\n",
    "zr=zr[np.newaxis,:]\n",
    "\n",
    "# Green's function (frequency domain), dimension [Nb freq , Nb capt]\n",
    "g=pek_green(kr, kz, A2, zs, zr, r)\n",
    "\n",
    "print('Continue')"
   ]
  },
  {
   "cell_type": "markdown",
   "metadata": {},
   "source": [
    "## Build signal at a given depth"
   ]
  },
  {
   "cell_type": "code",
   "execution_count": 3,
   "metadata": {},
   "outputs": [
    {
     "name": "stdout",
     "output_type": "stream",
     "text": [
      "Continue\n"
     ]
    }
   ],
   "source": [
    "## Build signal at a given depth\n",
    "z_sig=D\n",
    "ind_z=np.argmin(np.abs(z_sig-zr))\n",
    "s_f=np.zeros(len(freq_sig),'complex')\n",
    "s_f[0:len(freq_env)]=g[:,ind_z]\n",
    "\n",
    "\n",
    "## Go to time domain\n",
    "s_f=s_f[np.newaxis,:]\n",
    "s_t=np.real(ifft(s_f))#symetric\n",
    "norm_s_t=np.max(np.abs(s_t))\n",
    "s_t=s_t/norm_s_t\n",
    "\n",
    "### Time shift the signal by r/c1\n",
    "t_dec=r/c1\n",
    "i=complex(0,1)\n",
    "s_f_dec=s_f*np.exp(2*1*i*np.pi*freq_sig*t_dec)\n",
    "\n",
    "### Go to time domain\n",
    "s_t_dec=ifft(s_f_dec) # 'symmetric'\n",
    "\n",
    "norm_s_t=np.max(np.abs(s_t_dec))\n",
    "s_t_dec=s_t_dec/norm_s_t\n",
    "\n",
    "zr=z_sig\n",
    "\n",
    "sio.savemat('sig_pek_for_warp.mat',{'s_t': s_t, 's_t_dec': s_t_dec,'rho1':rho1,'rho2':rho2,\n",
    "                        'c1':c1,'c2':c2,' D': D,'fs':fs,'r':r,'zs':zs,'zr':zr })\n",
    "\n",
    "print('Continue')"
   ]
  },
  {
   "cell_type": "markdown",
   "metadata": {},
   "source": [
    "## separated modes"
   ]
  },
  {
   "cell_type": "code",
   "execution_count": 4,
   "metadata": {},
   "outputs": [
    {
     "name": "stdout",
     "output_type": "stream",
     "text": [
      "\n",
      "END\n"
     ]
    }
   ],
   "source": [
    "## separated modes\n",
    "(Nf, Nm) = np.shape(kr)\n",
    "\n",
    "\n",
    "mod=np.zeros((Nf,Nm),'complex' )\n",
    "\n",
    "\n",
    "for mm in np.arange(0,Nm):\n",
    "    \n",
    "    mod[:,mm]=A2[:,mm]*np.sin(kz[:,mm]*zs)*np.exp(-1*i*kr[:,mm]*r)/np.sqrt(kr[:,mm]*r)*np.sin(kz[:,mm]*zr) \n",
    "\n",
    "mod[kr==0]=0\n",
    "\n",
    "mode_f=np.zeros((len(freq_sig),Nm),'complex')\n",
    "mode_f[0:len(freq_env),:]=mod\n",
    "mode_t=np.real(ifft(mode_f,len(freq_sig),axis=0)) #'symmetric'\n",
    "mode_t=mode_t/norm_s_t\n",
    "\n",
    "[vg,f_vg]=pek_vg(0,fmax,1,Nm,c1,c2,rho1,rho2,D,df)\n",
    "\n",
    "sio.savemat('sig_pek_and_modes_for_warp.mat',{'s_t': s_t,'rho1':rho1,'rho2':rho2,'c1':c1,\n",
    "                                              'c2':c2,' D': D,'fs':fs,'r':r,'zs':zs,'zr':zr,'mode_t':mode_t, 'vg': vg,'f_vg': f_vg })\n",
    "\n",
    "\n",
    "print('')\n",
    "print('END')"
   ]
  },
  {
   "cell_type": "code",
   "execution_count": null,
   "metadata": {},
   "outputs": [],
   "source": []
  }
 ],
 "metadata": {
  "kernelspec": {
   "display_name": "Python 3",
   "language": "python",
   "name": "python3"
  },
  "language_info": {
   "codemirror_mode": {
    "name": "ipython",
    "version": 3
   },
   "file_extension": ".py",
   "mimetype": "text/x-python",
   "name": "python",
   "nbconvert_exporter": "python",
   "pygments_lexer": "ipython3",
   "version": "3.7.2"
  }
 },
 "nbformat": 4,
 "nbformat_minor": 4
}
